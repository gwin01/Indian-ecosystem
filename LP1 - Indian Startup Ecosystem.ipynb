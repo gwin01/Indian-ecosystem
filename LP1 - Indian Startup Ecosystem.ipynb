{
 "cells": [
  {
   "cell_type": "markdown",
   "id": "c1084011",
   "metadata": {},
   "source": [
    "# Project Title : Indian Startup Ecosystem Project"
   ]
  },
  {
   "cell_type": "code",
   "execution_count": 3,
   "id": "02ea8e9c",
   "metadata": {},
   "outputs": [],
   "source": [
    "import pandas as pd\n",
    "import numpy as np\n",
    "import matplotlib.pyplot as plt\n",
    "import seaborn as sns\n",
    "import squarify"
   ]
  },
  {
   "cell_type": "markdown",
   "id": "970d4d60",
   "metadata": {},
   "source": [
    "## Load Data"
   ]
  },
  {
   "cell_type": "code",
   "execution_count": 4,
   "id": "0bc915fd",
   "metadata": {},
   "outputs": [],
   "source": [
    "data18 = pd.read_csv('startup_funding2018.csv')\n",
    "data19 = pd.read_csv('startup_funding2019.csv')\n",
    "data20 = pd.read_csv('startup_funding2020.csv')\n",
    "data21 = pd.read_csv('startup_funding2021.csv')"
   ]
  },
  {
   "cell_type": "markdown",
   "id": "4b7b71f1",
   "metadata": {},
   "source": [
    "## Exploratory Data Analysis"
   ]
  },
  {
   "cell_type": "markdown",
   "id": "69a9a29f",
   "metadata": {},
   "source": [
    "### Data Overview"
   ]
  },
  {
   "cell_type": "code",
   "execution_count": 5,
   "id": "571f9605",
   "metadata": {
    "scrolled": true
   },
   "outputs": [
    {
     "data": {
      "text/html": [
       "<div>\n",
       "<style scoped>\n",
       "    .dataframe tbody tr th:only-of-type {\n",
       "        vertical-align: middle;\n",
       "    }\n",
       "\n",
       "    .dataframe tbody tr th {\n",
       "        vertical-align: top;\n",
       "    }\n",
       "\n",
       "    .dataframe thead th {\n",
       "        text-align: right;\n",
       "    }\n",
       "</style>\n",
       "<table border=\"1\" class=\"dataframe\">\n",
       "  <thead>\n",
       "    <tr style=\"text-align: right;\">\n",
       "      <th></th>\n",
       "      <th>Company Name</th>\n",
       "      <th>Industry</th>\n",
       "      <th>Round/Series</th>\n",
       "      <th>Amount</th>\n",
       "      <th>Location</th>\n",
       "      <th>About Company</th>\n",
       "    </tr>\n",
       "  </thead>\n",
       "  <tbody>\n",
       "    <tr>\n",
       "      <th>0</th>\n",
       "      <td>TheCollegeFever</td>\n",
       "      <td>Brand Marketing, Event Promotion, Marketing, S...</td>\n",
       "      <td>Seed</td>\n",
       "      <td>250000</td>\n",
       "      <td>Bangalore, Karnataka, India</td>\n",
       "      <td>TheCollegeFever is a hub for fun, fiesta and f...</td>\n",
       "    </tr>\n",
       "    <tr>\n",
       "      <th>1</th>\n",
       "      <td>Happy Cow Dairy</td>\n",
       "      <td>Agriculture, Farming</td>\n",
       "      <td>Seed</td>\n",
       "      <td>₹40,000,000</td>\n",
       "      <td>Mumbai, Maharashtra, India</td>\n",
       "      <td>A startup which aggregates milk from dairy far...</td>\n",
       "    </tr>\n",
       "    <tr>\n",
       "      <th>2</th>\n",
       "      <td>MyLoanCare</td>\n",
       "      <td>Credit, Financial Services, Lending, Marketplace</td>\n",
       "      <td>Series A</td>\n",
       "      <td>₹65,000,000</td>\n",
       "      <td>Gurgaon, Haryana, India</td>\n",
       "      <td>Leading Online Loans Marketplace in India</td>\n",
       "    </tr>\n",
       "    <tr>\n",
       "      <th>3</th>\n",
       "      <td>PayMe India</td>\n",
       "      <td>Financial Services, FinTech</td>\n",
       "      <td>Angel</td>\n",
       "      <td>2000000</td>\n",
       "      <td>Noida, Uttar Pradesh, India</td>\n",
       "      <td>PayMe India is an innovative FinTech organizat...</td>\n",
       "    </tr>\n",
       "    <tr>\n",
       "      <th>4</th>\n",
       "      <td>Eunimart</td>\n",
       "      <td>E-Commerce Platforms, Retail, SaaS</td>\n",
       "      <td>Seed</td>\n",
       "      <td>—</td>\n",
       "      <td>Hyderabad, Andhra Pradesh, India</td>\n",
       "      <td>Eunimart is a one stop solution for merchants ...</td>\n",
       "    </tr>\n",
       "  </tbody>\n",
       "</table>\n",
       "</div>"
      ],
      "text/plain": [
       "      Company Name                                           Industry  \\\n",
       "0  TheCollegeFever  Brand Marketing, Event Promotion, Marketing, S...   \n",
       "1  Happy Cow Dairy                               Agriculture, Farming   \n",
       "2       MyLoanCare   Credit, Financial Services, Lending, Marketplace   \n",
       "3      PayMe India                        Financial Services, FinTech   \n",
       "4         Eunimart                 E-Commerce Platforms, Retail, SaaS   \n",
       "\n",
       "  Round/Series       Amount                          Location  \\\n",
       "0         Seed       250000       Bangalore, Karnataka, India   \n",
       "1         Seed  ₹40,000,000        Mumbai, Maharashtra, India   \n",
       "2     Series A  ₹65,000,000           Gurgaon, Haryana, India   \n",
       "3        Angel      2000000       Noida, Uttar Pradesh, India   \n",
       "4         Seed            —  Hyderabad, Andhra Pradesh, India   \n",
       "\n",
       "                                       About Company  \n",
       "0  TheCollegeFever is a hub for fun, fiesta and f...  \n",
       "1  A startup which aggregates milk from dairy far...  \n",
       "2          Leading Online Loans Marketplace in India  \n",
       "3  PayMe India is an innovative FinTech organizat...  \n",
       "4  Eunimart is a one stop solution for merchants ...  "
      ]
     },
     "execution_count": 5,
     "metadata": {},
     "output_type": "execute_result"
    }
   ],
   "source": [
    "data18.head()"
   ]
  },
  {
   "cell_type": "code",
   "execution_count": 6,
   "id": "6dea4dc9",
   "metadata": {},
   "outputs": [
    {
     "name": "stdout",
     "output_type": "stream",
     "text": [
      "<class 'pandas.core.frame.DataFrame'>\n",
      "RangeIndex: 526 entries, 0 to 525\n",
      "Data columns (total 6 columns):\n",
      " #   Column         Non-Null Count  Dtype \n",
      "---  ------         --------------  ----- \n",
      " 0   Company Name   526 non-null    object\n",
      " 1   Industry       526 non-null    object\n",
      " 2   Round/Series   526 non-null    object\n",
      " 3   Amount         526 non-null    object\n",
      " 4   Location       526 non-null    object\n",
      " 5   About Company  526 non-null    object\n",
      "dtypes: object(6)\n",
      "memory usage: 24.8+ KB\n"
     ]
    }
   ],
   "source": [
    "data18.info()"
   ]
  },
  {
   "cell_type": "markdown",
   "id": "2c0988cb",
   "metadata": {},
   "source": [
    "### Questions\n",
    "\n",
    "\n",
    "#### 1. Trend in Investment Rate over the years?\n",
    "#### 2. What Sector received the highest Investment?\n",
    "#### 3. Which Sectors thrived in the pandemic era?\n",
    "#### 4. Which stage had the highest number of startups?\n",
    "#### 5. What are the top 5 cities with the highest investment?\n",
    "#### 6. The city with the highest number of startups and the total investment receieved by the city \n",
    "#### 7. Average investment amount for a seed stage investment over the period in India\n",
    "#### 8. Top 5 sectors in Mumbai per investment\n",
    "#### 9. Top 5 sectors in Bangalore per number of startups\n"
   ]
  },
  {
   "cell_type": "markdown",
   "id": "6e2e20ab",
   "metadata": {},
   "source": [
    "### Hypothesis\n",
    "\n",
    "##### Null Hypothesis:  Tech Companies are more likely to access investment funds\n",
    "##### Alternate Hypothesis: Tech Companies are less likely to access investment funds."
   ]
  },
  {
   "cell_type": "markdown",
   "id": "0fbd5fcf",
   "metadata": {},
   "source": [
    "### Issues with the dataset"
   ]
  },
  {
   "cell_type": "markdown",
   "id": "9a9903a1",
   "metadata": {},
   "source": [
    "2018 Dataset: \n",
    "\n",
    "-- Names of columns vary between 2018 dataset and other datasets.<br> Therefore, there will be need to rename and match the columns.\n",
    "   \n",
    "* Location -> HeadQuarter \n",
    "* Industry -> Sector\n",
    "* Company Name -> Company/Brand,\n",
    "* New amount-> Amount, \n",
    "* Round/Series -> Stage\n",
    "\n",
    "-- Data type Issue:\n",
    "\n",
    "--Amount column is not in the appropriate data type. <br> There are values with Dollar and Rupee symbols. For consistency, these values should be changed to one currency.\n",
    "<br> The cells with the <rupee> symbols have to be converted to dollars using the 2018 conversion rate.\n",
    "<br> Commas and some unwanted signs e.g —,  in the Amount column.\n",
    "    \n",
    "-- Missng Values Issue:\n",
    "<br> With the exception of Company/Brand Columns, all the other columns had missing values\n",
    "\n",
    "    "
   ]
  },
  {
   "cell_type": "markdown",
   "id": "93287cf2",
   "metadata": {},
   "source": [
    "## Data Cleaning"
   ]
  },
  {
   "cell_type": "markdown",
   "id": "b0291033",
   "metadata": {},
   "source": [
    "#### The stages for data cleaning:\n",
    "\n",
    "#### Duplicated Values\n",
    "#### Custom based rule checking\n",
    "#### Missing values\n",
    "#### Datatypes"
   ]
  },
  {
   "cell_type": "markdown",
   "id": "3e349e19",
   "metadata": {},
   "source": [
    "###### CLEANING 2018 DATASET"
   ]
  },
  {
   "cell_type": "code",
   "execution_count": 7,
   "id": "11ed78d0",
   "metadata": {},
   "outputs": [
    {
     "data": {
      "text/html": [
       "<div>\n",
       "<style scoped>\n",
       "    .dataframe tbody tr th:only-of-type {\n",
       "        vertical-align: middle;\n",
       "    }\n",
       "\n",
       "    .dataframe tbody tr th {\n",
       "        vertical-align: top;\n",
       "    }\n",
       "\n",
       "    .dataframe thead th {\n",
       "        text-align: right;\n",
       "    }\n",
       "</style>\n",
       "<table border=\"1\" class=\"dataframe\">\n",
       "  <thead>\n",
       "    <tr style=\"text-align: right;\">\n",
       "      <th></th>\n",
       "      <th>Company Name</th>\n",
       "      <th>Industry</th>\n",
       "      <th>Round/Series</th>\n",
       "      <th>Amount</th>\n",
       "      <th>Location</th>\n",
       "      <th>About Company</th>\n",
       "    </tr>\n",
       "  </thead>\n",
       "  <tbody>\n",
       "    <tr>\n",
       "      <th>0</th>\n",
       "      <td>TheCollegeFever</td>\n",
       "      <td>Brand Marketing, Event Promotion, Marketing, S...</td>\n",
       "      <td>Seed</td>\n",
       "      <td>250000</td>\n",
       "      <td>Bangalore, Karnataka, India</td>\n",
       "      <td>TheCollegeFever is a hub for fun, fiesta and f...</td>\n",
       "    </tr>\n",
       "    <tr>\n",
       "      <th>1</th>\n",
       "      <td>Happy Cow Dairy</td>\n",
       "      <td>Agriculture, Farming</td>\n",
       "      <td>Seed</td>\n",
       "      <td>₹40,000,000</td>\n",
       "      <td>Mumbai, Maharashtra, India</td>\n",
       "      <td>A startup which aggregates milk from dairy far...</td>\n",
       "    </tr>\n",
       "    <tr>\n",
       "      <th>2</th>\n",
       "      <td>MyLoanCare</td>\n",
       "      <td>Credit, Financial Services, Lending, Marketplace</td>\n",
       "      <td>Series A</td>\n",
       "      <td>₹65,000,000</td>\n",
       "      <td>Gurgaon, Haryana, India</td>\n",
       "      <td>Leading Online Loans Marketplace in India</td>\n",
       "    </tr>\n",
       "    <tr>\n",
       "      <th>3</th>\n",
       "      <td>PayMe India</td>\n",
       "      <td>Financial Services, FinTech</td>\n",
       "      <td>Angel</td>\n",
       "      <td>2000000</td>\n",
       "      <td>Noida, Uttar Pradesh, India</td>\n",
       "      <td>PayMe India is an innovative FinTech organizat...</td>\n",
       "    </tr>\n",
       "    <tr>\n",
       "      <th>4</th>\n",
       "      <td>Eunimart</td>\n",
       "      <td>E-Commerce Platforms, Retail, SaaS</td>\n",
       "      <td>Seed</td>\n",
       "      <td>—</td>\n",
       "      <td>Hyderabad, Andhra Pradesh, India</td>\n",
       "      <td>Eunimart is a one stop solution for merchants ...</td>\n",
       "    </tr>\n",
       "  </tbody>\n",
       "</table>\n",
       "</div>"
      ],
      "text/plain": [
       "      Company Name                                           Industry  \\\n",
       "0  TheCollegeFever  Brand Marketing, Event Promotion, Marketing, S...   \n",
       "1  Happy Cow Dairy                               Agriculture, Farming   \n",
       "2       MyLoanCare   Credit, Financial Services, Lending, Marketplace   \n",
       "3      PayMe India                        Financial Services, FinTech   \n",
       "4         Eunimart                 E-Commerce Platforms, Retail, SaaS   \n",
       "\n",
       "  Round/Series       Amount                          Location  \\\n",
       "0         Seed       250000       Bangalore, Karnataka, India   \n",
       "1         Seed  ₹40,000,000        Mumbai, Maharashtra, India   \n",
       "2     Series A  ₹65,000,000           Gurgaon, Haryana, India   \n",
       "3        Angel      2000000       Noida, Uttar Pradesh, India   \n",
       "4         Seed            —  Hyderabad, Andhra Pradesh, India   \n",
       "\n",
       "                                       About Company  \n",
       "0  TheCollegeFever is a hub for fun, fiesta and f...  \n",
       "1  A startup which aggregates milk from dairy far...  \n",
       "2          Leading Online Loans Marketplace in India  \n",
       "3  PayMe India is an innovative FinTech organizat...  \n",
       "4  Eunimart is a one stop solution for merchants ...  "
      ]
     },
     "execution_count": 7,
     "metadata": {},
     "output_type": "execute_result"
    }
   ],
   "source": [
    "data18.head()"
   ]
  },
  {
   "cell_type": "markdown",
   "id": "3249548f",
   "metadata": {},
   "source": [
    "###### DUPLICATED VALUES"
   ]
  },
  {
   "cell_type": "code",
   "execution_count": 8,
   "id": "4ecdbaa4",
   "metadata": {},
   "outputs": [
    {
     "data": {
      "text/plain": [
       "1"
      ]
     },
     "execution_count": 8,
     "metadata": {},
     "output_type": "execute_result"
    }
   ],
   "source": [
    "data18.duplicated().sum()"
   ]
  },
  {
   "cell_type": "code",
   "execution_count": 9,
   "id": "84c8dbcc",
   "metadata": {},
   "outputs": [
    {
     "data": {
      "text/html": [
       "<div>\n",
       "<style scoped>\n",
       "    .dataframe tbody tr th:only-of-type {\n",
       "        vertical-align: middle;\n",
       "    }\n",
       "\n",
       "    .dataframe tbody tr th {\n",
       "        vertical-align: top;\n",
       "    }\n",
       "\n",
       "    .dataframe thead th {\n",
       "        text-align: right;\n",
       "    }\n",
       "</style>\n",
       "<table border=\"1\" class=\"dataframe\">\n",
       "  <thead>\n",
       "    <tr style=\"text-align: right;\">\n",
       "      <th></th>\n",
       "      <th>Company Name</th>\n",
       "      <th>Industry</th>\n",
       "      <th>Round/Series</th>\n",
       "      <th>Amount</th>\n",
       "      <th>Location</th>\n",
       "      <th>About Company</th>\n",
       "    </tr>\n",
       "  </thead>\n",
       "  <tbody>\n",
       "    <tr>\n",
       "      <th>0</th>\n",
       "      <td>TheCollegeFever</td>\n",
       "      <td>Brand Marketing, Event Promotion, Marketing, S...</td>\n",
       "      <td>Seed</td>\n",
       "      <td>250000</td>\n",
       "      <td>Bangalore, Karnataka, India</td>\n",
       "      <td>TheCollegeFever is a hub for fun, fiesta and f...</td>\n",
       "    </tr>\n",
       "    <tr>\n",
       "      <th>348</th>\n",
       "      <td>TheCollegeFever</td>\n",
       "      <td>Brand Marketing, Event Promotion, Marketing, S...</td>\n",
       "      <td>Seed</td>\n",
       "      <td>250000</td>\n",
       "      <td>Bangalore, Karnataka, India</td>\n",
       "      <td>TheCollegeFever is a hub for fun, fiesta and f...</td>\n",
       "    </tr>\n",
       "  </tbody>\n",
       "</table>\n",
       "</div>"
      ],
      "text/plain": [
       "        Company Name                                           Industry  \\\n",
       "0    TheCollegeFever  Brand Marketing, Event Promotion, Marketing, S...   \n",
       "348  TheCollegeFever  Brand Marketing, Event Promotion, Marketing, S...   \n",
       "\n",
       "    Round/Series  Amount                     Location  \\\n",
       "0           Seed  250000  Bangalore, Karnataka, India   \n",
       "348         Seed  250000  Bangalore, Karnataka, India   \n",
       "\n",
       "                                         About Company  \n",
       "0    TheCollegeFever is a hub for fun, fiesta and f...  \n",
       "348  TheCollegeFever is a hub for fun, fiesta and f...  "
      ]
     },
     "execution_count": 9,
     "metadata": {},
     "output_type": "execute_result"
    }
   ],
   "source": [
    "#lets show the dulicated rows to investigate before dropping:\n",
    "data18[data18['Company Name']=='TheCollegeFever']"
   ]
  },
  {
   "cell_type": "code",
   "execution_count": 10,
   "id": "3e331cb0",
   "metadata": {},
   "outputs": [],
   "source": [
    "#Removing duplicated values\n",
    "\n",
    "data18.drop_duplicates(inplace =True)\n",
    "data18.reset_index(drop =True, inplace =True)"
   ]
  },
  {
   "cell_type": "code",
   "execution_count": 11,
   "id": "a1b0f2b6",
   "metadata": {},
   "outputs": [
    {
     "data": {
      "text/html": [
       "<div>\n",
       "<style scoped>\n",
       "    .dataframe tbody tr th:only-of-type {\n",
       "        vertical-align: middle;\n",
       "    }\n",
       "\n",
       "    .dataframe tbody tr th {\n",
       "        vertical-align: top;\n",
       "    }\n",
       "\n",
       "    .dataframe thead th {\n",
       "        text-align: right;\n",
       "    }\n",
       "</style>\n",
       "<table border=\"1\" class=\"dataframe\">\n",
       "  <thead>\n",
       "    <tr style=\"text-align: right;\">\n",
       "      <th></th>\n",
       "      <th>Company Name</th>\n",
       "      <th>Industry</th>\n",
       "      <th>Round/Series</th>\n",
       "      <th>Amount</th>\n",
       "      <th>Location</th>\n",
       "      <th>About Company</th>\n",
       "    </tr>\n",
       "  </thead>\n",
       "  <tbody>\n",
       "    <tr>\n",
       "      <th>0</th>\n",
       "      <td>TheCollegeFever</td>\n",
       "      <td>Brand Marketing, Event Promotion, Marketing, S...</td>\n",
       "      <td>Seed</td>\n",
       "      <td>250000</td>\n",
       "      <td>Bangalore, Karnataka, India</td>\n",
       "      <td>TheCollegeFever is a hub for fun, fiesta and f...</td>\n",
       "    </tr>\n",
       "    <tr>\n",
       "      <th>1</th>\n",
       "      <td>Happy Cow Dairy</td>\n",
       "      <td>Agriculture, Farming</td>\n",
       "      <td>Seed</td>\n",
       "      <td>₹40,000,000</td>\n",
       "      <td>Mumbai, Maharashtra, India</td>\n",
       "      <td>A startup which aggregates milk from dairy far...</td>\n",
       "    </tr>\n",
       "    <tr>\n",
       "      <th>2</th>\n",
       "      <td>MyLoanCare</td>\n",
       "      <td>Credit, Financial Services, Lending, Marketplace</td>\n",
       "      <td>Series A</td>\n",
       "      <td>₹65,000,000</td>\n",
       "      <td>Gurgaon, Haryana, India</td>\n",
       "      <td>Leading Online Loans Marketplace in India</td>\n",
       "    </tr>\n",
       "    <tr>\n",
       "      <th>3</th>\n",
       "      <td>PayMe India</td>\n",
       "      <td>Financial Services, FinTech</td>\n",
       "      <td>Angel</td>\n",
       "      <td>2000000</td>\n",
       "      <td>Noida, Uttar Pradesh, India</td>\n",
       "      <td>PayMe India is an innovative FinTech organizat...</td>\n",
       "    </tr>\n",
       "    <tr>\n",
       "      <th>4</th>\n",
       "      <td>Eunimart</td>\n",
       "      <td>E-Commerce Platforms, Retail, SaaS</td>\n",
       "      <td>Seed</td>\n",
       "      <td>—</td>\n",
       "      <td>Hyderabad, Andhra Pradesh, India</td>\n",
       "      <td>Eunimart is a one stop solution for merchants ...</td>\n",
       "    </tr>\n",
       "    <tr>\n",
       "      <th>...</th>\n",
       "      <td>...</td>\n",
       "      <td>...</td>\n",
       "      <td>...</td>\n",
       "      <td>...</td>\n",
       "      <td>...</td>\n",
       "      <td>...</td>\n",
       "    </tr>\n",
       "    <tr>\n",
       "      <th>520</th>\n",
       "      <td>Udaan</td>\n",
       "      <td>B2B, Business Development, Internet, Marketplace</td>\n",
       "      <td>Series C</td>\n",
       "      <td>225000000</td>\n",
       "      <td>Bangalore, Karnataka, India</td>\n",
       "      <td>Udaan is a B2B trade platform, designed specif...</td>\n",
       "    </tr>\n",
       "    <tr>\n",
       "      <th>521</th>\n",
       "      <td>Happyeasygo Group</td>\n",
       "      <td>Tourism, Travel</td>\n",
       "      <td>Series A</td>\n",
       "      <td>—</td>\n",
       "      <td>Haryana, Haryana, India</td>\n",
       "      <td>HappyEasyGo is an online travel domain.</td>\n",
       "    </tr>\n",
       "    <tr>\n",
       "      <th>522</th>\n",
       "      <td>Mombay</td>\n",
       "      <td>Food and Beverage, Food Delivery, Internet</td>\n",
       "      <td>Seed</td>\n",
       "      <td>7500</td>\n",
       "      <td>Mumbai, Maharashtra, India</td>\n",
       "      <td>Mombay is a unique opportunity for housewives ...</td>\n",
       "    </tr>\n",
       "    <tr>\n",
       "      <th>523</th>\n",
       "      <td>Droni Tech</td>\n",
       "      <td>Information Technology</td>\n",
       "      <td>Seed</td>\n",
       "      <td>₹35,000,000</td>\n",
       "      <td>Mumbai, Maharashtra, India</td>\n",
       "      <td>Droni Tech manufacture UAVs and develop softwa...</td>\n",
       "    </tr>\n",
       "    <tr>\n",
       "      <th>524</th>\n",
       "      <td>Netmeds</td>\n",
       "      <td>Biotechnology, Health Care, Pharmaceutical</td>\n",
       "      <td>Series C</td>\n",
       "      <td>35000000</td>\n",
       "      <td>Chennai, Tamil Nadu, India</td>\n",
       "      <td>Welcome to India's most convenient pharmacy!</td>\n",
       "    </tr>\n",
       "  </tbody>\n",
       "</table>\n",
       "<p>525 rows × 6 columns</p>\n",
       "</div>"
      ],
      "text/plain": [
       "          Company Name                                           Industry  \\\n",
       "0      TheCollegeFever  Brand Marketing, Event Promotion, Marketing, S...   \n",
       "1      Happy Cow Dairy                               Agriculture, Farming   \n",
       "2           MyLoanCare   Credit, Financial Services, Lending, Marketplace   \n",
       "3          PayMe India                        Financial Services, FinTech   \n",
       "4             Eunimart                 E-Commerce Platforms, Retail, SaaS   \n",
       "..                 ...                                                ...   \n",
       "520              Udaan   B2B, Business Development, Internet, Marketplace   \n",
       "521  Happyeasygo Group                                    Tourism, Travel   \n",
       "522             Mombay         Food and Beverage, Food Delivery, Internet   \n",
       "523         Droni Tech                             Information Technology   \n",
       "524            Netmeds         Biotechnology, Health Care, Pharmaceutical   \n",
       "\n",
       "    Round/Series       Amount                          Location  \\\n",
       "0           Seed       250000       Bangalore, Karnataka, India   \n",
       "1           Seed  ₹40,000,000        Mumbai, Maharashtra, India   \n",
       "2       Series A  ₹65,000,000           Gurgaon, Haryana, India   \n",
       "3          Angel      2000000       Noida, Uttar Pradesh, India   \n",
       "4           Seed            —  Hyderabad, Andhra Pradesh, India   \n",
       "..           ...          ...                               ...   \n",
       "520     Series C    225000000       Bangalore, Karnataka, India   \n",
       "521     Series A            —           Haryana, Haryana, India   \n",
       "522         Seed         7500        Mumbai, Maharashtra, India   \n",
       "523         Seed  ₹35,000,000        Mumbai, Maharashtra, India   \n",
       "524     Series C     35000000        Chennai, Tamil Nadu, India   \n",
       "\n",
       "                                         About Company  \n",
       "0    TheCollegeFever is a hub for fun, fiesta and f...  \n",
       "1    A startup which aggregates milk from dairy far...  \n",
       "2            Leading Online Loans Marketplace in India  \n",
       "3    PayMe India is an innovative FinTech organizat...  \n",
       "4    Eunimart is a one stop solution for merchants ...  \n",
       "..                                                 ...  \n",
       "520  Udaan is a B2B trade platform, designed specif...  \n",
       "521            HappyEasyGo is an online travel domain.  \n",
       "522  Mombay is a unique opportunity for housewives ...  \n",
       "523  Droni Tech manufacture UAVs and develop softwa...  \n",
       "524       Welcome to India's most convenient pharmacy!  \n",
       "\n",
       "[525 rows x 6 columns]"
      ]
     },
     "execution_count": 11,
     "metadata": {},
     "output_type": "execute_result"
    }
   ],
   "source": [
    "data18"
   ]
  },
  {
   "cell_type": "markdown",
   "id": "45d85799",
   "metadata": {},
   "source": [
    "###### Amount Column Inspection.\n",
    "    \n",
    "###### The main issues: \n",
    "* Varying currency values; Rupees and Dollars.\n",
    "* Inappropriate Datatype due to symbols\n",
    "\n",
    " \n",
    "###### Assumption:\n",
    "* Upon visual inspection, values without currency symbols are assumed to be in dollars\n",
    "\n",
    "###### Solution:\n",
    "* Convert the currency(Rupees) into Dollars (USD)"
   ]
  },
  {
   "cell_type": "code",
   "execution_count": 12,
   "id": "c6653060",
   "metadata": {},
   "outputs": [],
   "source": [
    "#create a temp column to help help ith conversion INR to USD\n",
    "data18['INR Amt'] = data18.Amount.str.rsplit('₹', n = 2).str[1]\n",
    "data18['INR Amt'] = data18['INR Amt'].apply(lambda x: str(x).replace(',', ''))\n",
    "data18['INR Amt'] = data18['INR Amt'].apply(float).fillna(0)\n",
    "\n",
    "#create a new column USD Amt and convert the INR Amt to USD\n",
    " \n",
    "# The average rupee to dollar converion rate  for the year 2018 as obtained from online sources is 0.0146\n",
    "data18['USD Amt'] = data18['INR Amt']*0.0146"
   ]
  },
  {
   "cell_type": "code",
   "execution_count": 13,
   "id": "a8e8db56",
   "metadata": {
    "scrolled": true
   },
   "outputs": [
    {
     "data": {
      "text/html": [
       "<div>\n",
       "<style scoped>\n",
       "    .dataframe tbody tr th:only-of-type {\n",
       "        vertical-align: middle;\n",
       "    }\n",
       "\n",
       "    .dataframe tbody tr th {\n",
       "        vertical-align: top;\n",
       "    }\n",
       "\n",
       "    .dataframe thead th {\n",
       "        text-align: right;\n",
       "    }\n",
       "</style>\n",
       "<table border=\"1\" class=\"dataframe\">\n",
       "  <thead>\n",
       "    <tr style=\"text-align: right;\">\n",
       "      <th></th>\n",
       "      <th>Company Name</th>\n",
       "      <th>Industry</th>\n",
       "      <th>Round/Series</th>\n",
       "      <th>Amount</th>\n",
       "      <th>Location</th>\n",
       "      <th>About Company</th>\n",
       "      <th>INR Amt</th>\n",
       "      <th>USD Amt</th>\n",
       "    </tr>\n",
       "  </thead>\n",
       "  <tbody>\n",
       "    <tr>\n",
       "      <th>0</th>\n",
       "      <td>TheCollegeFever</td>\n",
       "      <td>Brand Marketing, Event Promotion, Marketing, S...</td>\n",
       "      <td>Seed</td>\n",
       "      <td>250000</td>\n",
       "      <td>Bangalore, Karnataka, India</td>\n",
       "      <td>TheCollegeFever is a hub for fun, fiesta and f...</td>\n",
       "      <td>0.0</td>\n",
       "      <td>0.0</td>\n",
       "    </tr>\n",
       "    <tr>\n",
       "      <th>1</th>\n",
       "      <td>Happy Cow Dairy</td>\n",
       "      <td>Agriculture, Farming</td>\n",
       "      <td>Seed</td>\n",
       "      <td>₹40,000,000</td>\n",
       "      <td>Mumbai, Maharashtra, India</td>\n",
       "      <td>A startup which aggregates milk from dairy far...</td>\n",
       "      <td>40000000.0</td>\n",
       "      <td>584000.0</td>\n",
       "    </tr>\n",
       "    <tr>\n",
       "      <th>2</th>\n",
       "      <td>MyLoanCare</td>\n",
       "      <td>Credit, Financial Services, Lending, Marketplace</td>\n",
       "      <td>Series A</td>\n",
       "      <td>₹65,000,000</td>\n",
       "      <td>Gurgaon, Haryana, India</td>\n",
       "      <td>Leading Online Loans Marketplace in India</td>\n",
       "      <td>65000000.0</td>\n",
       "      <td>949000.0</td>\n",
       "    </tr>\n",
       "    <tr>\n",
       "      <th>3</th>\n",
       "      <td>PayMe India</td>\n",
       "      <td>Financial Services, FinTech</td>\n",
       "      <td>Angel</td>\n",
       "      <td>2000000</td>\n",
       "      <td>Noida, Uttar Pradesh, India</td>\n",
       "      <td>PayMe India is an innovative FinTech organizat...</td>\n",
       "      <td>0.0</td>\n",
       "      <td>0.0</td>\n",
       "    </tr>\n",
       "    <tr>\n",
       "      <th>4</th>\n",
       "      <td>Eunimart</td>\n",
       "      <td>E-Commerce Platforms, Retail, SaaS</td>\n",
       "      <td>Seed</td>\n",
       "      <td>—</td>\n",
       "      <td>Hyderabad, Andhra Pradesh, India</td>\n",
       "      <td>Eunimart is a one stop solution for merchants ...</td>\n",
       "      <td>0.0</td>\n",
       "      <td>0.0</td>\n",
       "    </tr>\n",
       "  </tbody>\n",
       "</table>\n",
       "</div>"
      ],
      "text/plain": [
       "      Company Name                                           Industry  \\\n",
       "0  TheCollegeFever  Brand Marketing, Event Promotion, Marketing, S...   \n",
       "1  Happy Cow Dairy                               Agriculture, Farming   \n",
       "2       MyLoanCare   Credit, Financial Services, Lending, Marketplace   \n",
       "3      PayMe India                        Financial Services, FinTech   \n",
       "4         Eunimart                 E-Commerce Platforms, Retail, SaaS   \n",
       "\n",
       "  Round/Series       Amount                          Location  \\\n",
       "0         Seed       250000       Bangalore, Karnataka, India   \n",
       "1         Seed  ₹40,000,000        Mumbai, Maharashtra, India   \n",
       "2     Series A  ₹65,000,000           Gurgaon, Haryana, India   \n",
       "3        Angel      2000000       Noida, Uttar Pradesh, India   \n",
       "4         Seed            —  Hyderabad, Andhra Pradesh, India   \n",
       "\n",
       "                                       About Company     INR Amt   USD Amt  \n",
       "0  TheCollegeFever is a hub for fun, fiesta and f...         0.0       0.0  \n",
       "1  A startup which aggregates milk from dairy far...  40000000.0  584000.0  \n",
       "2          Leading Online Loans Marketplace in India  65000000.0  949000.0  \n",
       "3  PayMe India is an innovative FinTech organizat...         0.0       0.0  \n",
       "4  Eunimart is a one stop solution for merchants ...         0.0       0.0  "
      ]
     },
     "execution_count": 13,
     "metadata": {},
     "output_type": "execute_result"
    }
   ],
   "source": [
    "data18.head()"
   ]
  },
  {
   "cell_type": "code",
   "execution_count": 14,
   "id": "c8637d15",
   "metadata": {},
   "outputs": [],
   "source": [
    "#Replace 0 values with np.nan\n",
    "data18['USD Amt'] = data18['USD Amt'].replace(0, np.nan)\n",
    "\n",
    "#Fill nan values in USD amount with values in Amount\n",
    "data18['USD Amt'] = data18['USD Amt'].fillna(data18['Amount'])\n",
    "\n",
    "# drop Amount column and INR columns\n",
    "data18.drop(['Amount','INR Amt'], axis = 1, inplace = True)\n",
    "\n",
    "#Rename USD Amt to Amount($)\n",
    "data18.rename(columns = {'USD Amt': 'Amount($)'}, inplace = True)\n"
   ]
  },
  {
   "cell_type": "code",
   "execution_count": 15,
   "id": "8a141930",
   "metadata": {},
   "outputs": [
    {
     "data": {
      "text/html": [
       "<div>\n",
       "<style scoped>\n",
       "    .dataframe tbody tr th:only-of-type {\n",
       "        vertical-align: middle;\n",
       "    }\n",
       "\n",
       "    .dataframe tbody tr th {\n",
       "        vertical-align: top;\n",
       "    }\n",
       "\n",
       "    .dataframe thead th {\n",
       "        text-align: right;\n",
       "    }\n",
       "</style>\n",
       "<table border=\"1\" class=\"dataframe\">\n",
       "  <thead>\n",
       "    <tr style=\"text-align: right;\">\n",
       "      <th></th>\n",
       "      <th>Company Name</th>\n",
       "      <th>Industry</th>\n",
       "      <th>Round/Series</th>\n",
       "      <th>Location</th>\n",
       "      <th>About Company</th>\n",
       "      <th>Amount($)</th>\n",
       "    </tr>\n",
       "  </thead>\n",
       "  <tbody>\n",
       "    <tr>\n",
       "      <th>0</th>\n",
       "      <td>TheCollegeFever</td>\n",
       "      <td>Brand Marketing, Event Promotion, Marketing, S...</td>\n",
       "      <td>Seed</td>\n",
       "      <td>Bangalore, Karnataka, India</td>\n",
       "      <td>TheCollegeFever is a hub for fun, fiesta and f...</td>\n",
       "      <td>250000</td>\n",
       "    </tr>\n",
       "    <tr>\n",
       "      <th>1</th>\n",
       "      <td>Happy Cow Dairy</td>\n",
       "      <td>Agriculture, Farming</td>\n",
       "      <td>Seed</td>\n",
       "      <td>Mumbai, Maharashtra, India</td>\n",
       "      <td>A startup which aggregates milk from dairy far...</td>\n",
       "      <td>584000.0</td>\n",
       "    </tr>\n",
       "    <tr>\n",
       "      <th>2</th>\n",
       "      <td>MyLoanCare</td>\n",
       "      <td>Credit, Financial Services, Lending, Marketplace</td>\n",
       "      <td>Series A</td>\n",
       "      <td>Gurgaon, Haryana, India</td>\n",
       "      <td>Leading Online Loans Marketplace in India</td>\n",
       "      <td>949000.0</td>\n",
       "    </tr>\n",
       "    <tr>\n",
       "      <th>3</th>\n",
       "      <td>PayMe India</td>\n",
       "      <td>Financial Services, FinTech</td>\n",
       "      <td>Angel</td>\n",
       "      <td>Noida, Uttar Pradesh, India</td>\n",
       "      <td>PayMe India is an innovative FinTech organizat...</td>\n",
       "      <td>2000000</td>\n",
       "    </tr>\n",
       "    <tr>\n",
       "      <th>4</th>\n",
       "      <td>Eunimart</td>\n",
       "      <td>E-Commerce Platforms, Retail, SaaS</td>\n",
       "      <td>Seed</td>\n",
       "      <td>Hyderabad, Andhra Pradesh, India</td>\n",
       "      <td>Eunimart is a one stop solution for merchants ...</td>\n",
       "      <td>—</td>\n",
       "    </tr>\n",
       "  </tbody>\n",
       "</table>\n",
       "</div>"
      ],
      "text/plain": [
       "      Company Name                                           Industry  \\\n",
       "0  TheCollegeFever  Brand Marketing, Event Promotion, Marketing, S...   \n",
       "1  Happy Cow Dairy                               Agriculture, Farming   \n",
       "2       MyLoanCare   Credit, Financial Services, Lending, Marketplace   \n",
       "3      PayMe India                        Financial Services, FinTech   \n",
       "4         Eunimart                 E-Commerce Platforms, Retail, SaaS   \n",
       "\n",
       "  Round/Series                          Location  \\\n",
       "0         Seed       Bangalore, Karnataka, India   \n",
       "1         Seed        Mumbai, Maharashtra, India   \n",
       "2     Series A           Gurgaon, Haryana, India   \n",
       "3        Angel       Noida, Uttar Pradesh, India   \n",
       "4         Seed  Hyderabad, Andhra Pradesh, India   \n",
       "\n",
       "                                       About Company Amount($)  \n",
       "0  TheCollegeFever is a hub for fun, fiesta and f...    250000  \n",
       "1  A startup which aggregates milk from dairy far...  584000.0  \n",
       "2          Leading Online Loans Marketplace in India  949000.0  \n",
       "3  PayMe India is an innovative FinTech organizat...   2000000  \n",
       "4  Eunimart is a one stop solution for merchants ...         —  "
      ]
     },
     "execution_count": 15,
     "metadata": {},
     "output_type": "execute_result"
    }
   ],
   "source": [
    "data18.head(5)"
   ]
  },
  {
   "cell_type": "code",
   "execution_count": 16,
   "id": "5bc45dfc",
   "metadata": {},
   "outputs": [],
   "source": [
    "#create a Year column for data18, data19, data20 and data21 to help in the merge\n",
    "data18['Year'] = 2018\n",
    "data19['Year'] = 2019\n",
    "data20['Year'] = 2020\n",
    "data21['Year'] = 2021"
   ]
  },
  {
   "cell_type": "markdown",
   "id": "2f183395",
   "metadata": {},
   "source": [
    " ###### MERGING 2019-2021 DATAFRAMES"
   ]
  },
  {
   "cell_type": "code",
   "execution_count": 17,
   "id": "3550561a",
   "metadata": {},
   "outputs": [],
   "source": [
    "data = pd.concat([data19, data20, data21])"
   ]
  },
  {
   "cell_type": "code",
   "execution_count": 18,
   "id": "4e8b170c",
   "metadata": {},
   "outputs": [
    {
     "name": "stdout",
     "output_type": "stream",
     "text": [
      "<class 'pandas.core.frame.DataFrame'>\n",
      "Int64Index: 2353 entries, 0 to 1208\n",
      "Data columns (total 11 columns):\n",
      " #   Column         Non-Null Count  Dtype \n",
      "---  ------         --------------  ----- \n",
      " 0   Company/Brand  2353 non-null   object\n",
      " 1   Founded        2111 non-null   object\n",
      " 2   HeadQuarter    2239 non-null   object\n",
      " 3   Sector         2335 non-null   object\n",
      " 4   What it does   2353 non-null   object\n",
      " 5   Founders       2334 non-null   object\n",
      " 6   Investor       2253 non-null   object\n",
      " 7   Amount($)      2347 non-null   object\n",
      " 8   Stage          1415 non-null   object\n",
      " 9   Year           2353 non-null   int64 \n",
      " 10  Unnamed: 9     2 non-null      object\n",
      "dtypes: int64(1), object(10)\n",
      "memory usage: 220.6+ KB\n"
     ]
    }
   ],
   "source": [
    "data.info()"
   ]
  },
  {
   "cell_type": "code",
   "execution_count": 19,
   "id": "f08728cf",
   "metadata": {},
   "outputs": [
    {
     "data": {
      "text/html": [
       "<div>\n",
       "<style scoped>\n",
       "    .dataframe tbody tr th:only-of-type {\n",
       "        vertical-align: middle;\n",
       "    }\n",
       "\n",
       "    .dataframe tbody tr th {\n",
       "        vertical-align: top;\n",
       "    }\n",
       "\n",
       "    .dataframe thead th {\n",
       "        text-align: right;\n",
       "    }\n",
       "</style>\n",
       "<table border=\"1\" class=\"dataframe\">\n",
       "  <thead>\n",
       "    <tr style=\"text-align: right;\">\n",
       "      <th></th>\n",
       "      <th>Company/Brand</th>\n",
       "      <th>Founded</th>\n",
       "      <th>HeadQuarter</th>\n",
       "      <th>Sector</th>\n",
       "      <th>What it does</th>\n",
       "      <th>Founders</th>\n",
       "      <th>Investor</th>\n",
       "      <th>Amount($)</th>\n",
       "      <th>Stage</th>\n",
       "      <th>Year</th>\n",
       "      <th>Unnamed: 9</th>\n",
       "    </tr>\n",
       "  </thead>\n",
       "  <tbody>\n",
       "    <tr>\n",
       "      <th>0</th>\n",
       "      <td>Bombay Shaving</td>\n",
       "      <td>NaN</td>\n",
       "      <td>NaN</td>\n",
       "      <td>Ecommerce</td>\n",
       "      <td>Provides a range of male grooming products</td>\n",
       "      <td>Shantanu Deshpande</td>\n",
       "      <td>Sixth Sense Ventures</td>\n",
       "      <td>$6,300,000</td>\n",
       "      <td>NaN</td>\n",
       "      <td>2019</td>\n",
       "      <td>NaN</td>\n",
       "    </tr>\n",
       "    <tr>\n",
       "      <th>1</th>\n",
       "      <td>Ruangguru</td>\n",
       "      <td>2014.0</td>\n",
       "      <td>Mumbai</td>\n",
       "      <td>Edtech</td>\n",
       "      <td>A learning platform that provides topic-based ...</td>\n",
       "      <td>Adamas Belva Syah Devara, Iman Usman.</td>\n",
       "      <td>General Atlantic</td>\n",
       "      <td>$150,000,000</td>\n",
       "      <td>Series C</td>\n",
       "      <td>2019</td>\n",
       "      <td>NaN</td>\n",
       "    </tr>\n",
       "    <tr>\n",
       "      <th>2</th>\n",
       "      <td>Eduisfun</td>\n",
       "      <td>NaN</td>\n",
       "      <td>Mumbai</td>\n",
       "      <td>Edtech</td>\n",
       "      <td>It aims to make learning fun via games.</td>\n",
       "      <td>Jatin Solanki</td>\n",
       "      <td>Deepak Parekh, Amitabh Bachchan, Piyush Pandey</td>\n",
       "      <td>$28,000,000</td>\n",
       "      <td>Fresh funding</td>\n",
       "      <td>2019</td>\n",
       "      <td>NaN</td>\n",
       "    </tr>\n",
       "    <tr>\n",
       "      <th>3</th>\n",
       "      <td>HomeLane</td>\n",
       "      <td>2014.0</td>\n",
       "      <td>Chennai</td>\n",
       "      <td>Interior design</td>\n",
       "      <td>Provides interior designing solutions</td>\n",
       "      <td>Srikanth Iyer, Rama Harinath</td>\n",
       "      <td>Evolvence India Fund (EIF), Pidilite Group, FJ...</td>\n",
       "      <td>$30,000,000</td>\n",
       "      <td>Series D</td>\n",
       "      <td>2019</td>\n",
       "      <td>NaN</td>\n",
       "    </tr>\n",
       "    <tr>\n",
       "      <th>4</th>\n",
       "      <td>Nu Genes</td>\n",
       "      <td>2004.0</td>\n",
       "      <td>Telangana</td>\n",
       "      <td>AgriTech</td>\n",
       "      <td>It is a seed company engaged in production, pr...</td>\n",
       "      <td>Narayana Reddy Punyala</td>\n",
       "      <td>Innovation in Food and Agriculture (IFA)</td>\n",
       "      <td>$6,000,000</td>\n",
       "      <td>NaN</td>\n",
       "      <td>2019</td>\n",
       "      <td>NaN</td>\n",
       "    </tr>\n",
       "  </tbody>\n",
       "</table>\n",
       "</div>"
      ],
      "text/plain": [
       "    Company/Brand Founded HeadQuarter           Sector  \\\n",
       "0  Bombay Shaving     NaN         NaN        Ecommerce   \n",
       "1       Ruangguru  2014.0      Mumbai           Edtech   \n",
       "2        Eduisfun     NaN      Mumbai           Edtech   \n",
       "3        HomeLane  2014.0     Chennai  Interior design   \n",
       "4        Nu Genes  2004.0   Telangana         AgriTech   \n",
       "\n",
       "                                        What it does  \\\n",
       "0         Provides a range of male grooming products   \n",
       "1  A learning platform that provides topic-based ...   \n",
       "2            It aims to make learning fun via games.   \n",
       "3              Provides interior designing solutions   \n",
       "4  It is a seed company engaged in production, pr...   \n",
       "\n",
       "                                Founders  \\\n",
       "0                     Shantanu Deshpande   \n",
       "1  Adamas Belva Syah Devara, Iman Usman.   \n",
       "2                          Jatin Solanki   \n",
       "3           Srikanth Iyer, Rama Harinath   \n",
       "4                 Narayana Reddy Punyala   \n",
       "\n",
       "                                            Investor     Amount($)  \\\n",
       "0                               Sixth Sense Ventures    $6,300,000   \n",
       "1                                   General Atlantic  $150,000,000   \n",
       "2     Deepak Parekh, Amitabh Bachchan, Piyush Pandey   $28,000,000   \n",
       "3  Evolvence India Fund (EIF), Pidilite Group, FJ...   $30,000,000   \n",
       "4           Innovation in Food and Agriculture (IFA)    $6,000,000   \n",
       "\n",
       "           Stage  Year Unnamed: 9  \n",
       "0            NaN  2019        NaN  \n",
       "1       Series C  2019        NaN  \n",
       "2  Fresh funding  2019        NaN  \n",
       "3       Series D  2019        NaN  \n",
       "4            NaN  2019        NaN  "
      ]
     },
     "execution_count": 19,
     "metadata": {},
     "output_type": "execute_result"
    }
   ],
   "source": [
    "data.head()"
   ]
  },
  {
   "cell_type": "markdown",
   "id": "8ec25c27",
   "metadata": {},
   "source": [
    "###### MERGING DATA AND DATA18\n",
    "\n",
    "Rename Columns, Drop Columns and Merge\n",
    "\n",
    "<br> Columns were renamed for proper matching during the concatention.\n",
    "<br> The columns which were not relevant to the initial questions asked were dropped."
   ]
  },
  {
   "cell_type": "code",
   "execution_count": 20,
   "id": "c8bd8b8a",
   "metadata": {},
   "outputs": [
    {
     "data": {
      "text/plain": [
       "Index(['Company/Brand', 'Founded', 'HeadQuarter', 'Sector', 'What it does',\n",
       "       'Founders', 'Investor', 'Amount($)', 'Stage', 'Year', 'Unnamed: 9'],\n",
       "      dtype='object')"
      ]
     },
     "execution_count": 20,
     "metadata": {},
     "output_type": "execute_result"
    }
   ],
   "source": [
    "data.columns"
   ]
  },
  {
   "cell_type": "code",
   "execution_count": 21,
   "id": "f91b5de4",
   "metadata": {},
   "outputs": [
    {
     "data": {
      "text/plain": [
       "Index(['Company Name', 'Industry', 'Round/Series', 'Location', 'About Company',\n",
       "       'Amount($)', 'Year'],\n",
       "      dtype='object')"
      ]
     },
     "execution_count": 21,
     "metadata": {},
     "output_type": "execute_result"
    }
   ],
   "source": [
    "data18.columns"
   ]
  },
  {
   "cell_type": "code",
   "execution_count": 22,
   "id": "f7c14dbe",
   "metadata": {},
   "outputs": [],
   "source": [
    "# Rename Columns\n",
    "data18.rename(columns = {'Location': 'HeadQuarter', 'Industry': 'Sector', 'Company Name': 'Company/Brand' ,'Amount': 'Amount($)', 'Round/Series':'Stage',  'About Company': 'What it does',}, inplace = True)"
   ]
  },
  {
   "cell_type": "code",
   "execution_count": 23,
   "id": "2a2c9833",
   "metadata": {},
   "outputs": [],
   "source": [
    "# Drop unwanted columns\n",
    "data.drop(['Founded','Founders','Unnamed: 9', 'Investor'], axis = 1, inplace = True)"
   ]
  },
  {
   "cell_type": "code",
   "execution_count": 24,
   "id": "d11aa4cc",
   "metadata": {},
   "outputs": [],
   "source": [
    "data = pd.concat([data, data18])"
   ]
  },
  {
   "cell_type": "code",
   "execution_count": 25,
   "id": "937da376",
   "metadata": {},
   "outputs": [
    {
     "data": {
      "text/html": [
       "<div>\n",
       "<style scoped>\n",
       "    .dataframe tbody tr th:only-of-type {\n",
       "        vertical-align: middle;\n",
       "    }\n",
       "\n",
       "    .dataframe tbody tr th {\n",
       "        vertical-align: top;\n",
       "    }\n",
       "\n",
       "    .dataframe thead th {\n",
       "        text-align: right;\n",
       "    }\n",
       "</style>\n",
       "<table border=\"1\" class=\"dataframe\">\n",
       "  <thead>\n",
       "    <tr style=\"text-align: right;\">\n",
       "      <th></th>\n",
       "      <th>Company/Brand</th>\n",
       "      <th>HeadQuarter</th>\n",
       "      <th>Sector</th>\n",
       "      <th>What it does</th>\n",
       "      <th>Amount($)</th>\n",
       "      <th>Stage</th>\n",
       "      <th>Year</th>\n",
       "    </tr>\n",
       "  </thead>\n",
       "  <tbody>\n",
       "    <tr>\n",
       "      <th>0</th>\n",
       "      <td>Bombay Shaving</td>\n",
       "      <td>NaN</td>\n",
       "      <td>Ecommerce</td>\n",
       "      <td>Provides a range of male grooming products</td>\n",
       "      <td>$6,300,000</td>\n",
       "      <td>NaN</td>\n",
       "      <td>2019</td>\n",
       "    </tr>\n",
       "    <tr>\n",
       "      <th>1</th>\n",
       "      <td>Ruangguru</td>\n",
       "      <td>Mumbai</td>\n",
       "      <td>Edtech</td>\n",
       "      <td>A learning platform that provides topic-based ...</td>\n",
       "      <td>$150,000,000</td>\n",
       "      <td>Series C</td>\n",
       "      <td>2019</td>\n",
       "    </tr>\n",
       "    <tr>\n",
       "      <th>2</th>\n",
       "      <td>Eduisfun</td>\n",
       "      <td>Mumbai</td>\n",
       "      <td>Edtech</td>\n",
       "      <td>It aims to make learning fun via games.</td>\n",
       "      <td>$28,000,000</td>\n",
       "      <td>Fresh funding</td>\n",
       "      <td>2019</td>\n",
       "    </tr>\n",
       "    <tr>\n",
       "      <th>3</th>\n",
       "      <td>HomeLane</td>\n",
       "      <td>Chennai</td>\n",
       "      <td>Interior design</td>\n",
       "      <td>Provides interior designing solutions</td>\n",
       "      <td>$30,000,000</td>\n",
       "      <td>Series D</td>\n",
       "      <td>2019</td>\n",
       "    </tr>\n",
       "    <tr>\n",
       "      <th>4</th>\n",
       "      <td>Nu Genes</td>\n",
       "      <td>Telangana</td>\n",
       "      <td>AgriTech</td>\n",
       "      <td>It is a seed company engaged in production, pr...</td>\n",
       "      <td>$6,000,000</td>\n",
       "      <td>NaN</td>\n",
       "      <td>2019</td>\n",
       "    </tr>\n",
       "  </tbody>\n",
       "</table>\n",
       "</div>"
      ],
      "text/plain": [
       "    Company/Brand HeadQuarter           Sector  \\\n",
       "0  Bombay Shaving         NaN        Ecommerce   \n",
       "1       Ruangguru      Mumbai           Edtech   \n",
       "2        Eduisfun      Mumbai           Edtech   \n",
       "3        HomeLane     Chennai  Interior design   \n",
       "4        Nu Genes   Telangana         AgriTech   \n",
       "\n",
       "                                        What it does     Amount($)  \\\n",
       "0         Provides a range of male grooming products    $6,300,000   \n",
       "1  A learning platform that provides topic-based ...  $150,000,000   \n",
       "2            It aims to make learning fun via games.   $28,000,000   \n",
       "3              Provides interior designing solutions   $30,000,000   \n",
       "4  It is a seed company engaged in production, pr...    $6,000,000   \n",
       "\n",
       "           Stage  Year  \n",
       "0            NaN  2019  \n",
       "1       Series C  2019  \n",
       "2  Fresh funding  2019  \n",
       "3       Series D  2019  \n",
       "4            NaN  2019  "
      ]
     },
     "execution_count": 25,
     "metadata": {},
     "output_type": "execute_result"
    }
   ],
   "source": [
    "data.head()"
   ]
  },
  {
   "cell_type": "markdown",
   "id": "875e65a8",
   "metadata": {},
   "source": [
    "###### FURTHER INSPECTION ON THE AMOUNT COLUMN\n",
    "\n",
    "* Replace symbols and other string values\n",
    "* Change datatype"
   ]
  },
  {
   "cell_type": "code",
   "execution_count": 26,
   "id": "c58de8f5",
   "metadata": {},
   "outputs": [],
   "source": [
    "#Removing symbols and string values:\n",
    "data['Amount($)'] = data['Amount($)'].apply(lambda x : str(x).replace('$',''))\n",
    "data['Amount($)'] = data['Amount($)'].apply(lambda x : str(x).replace(',',''))\n",
    "data['Amount($)'] = data['Amount($)'].apply(lambda x : str(x).replace('undisclosed','0'))\n",
    "data['Amount($)'] = data['Amount($)'].apply(lambda x : str(x).replace('Undisclosed','0'))\n",
    "data['Amount($)'] = data['Amount($)'].apply(lambda x : str(x).replace('nan','0'))\n",
    "data['Amount($)'] = data['Amount($)'].apply(lambda x : str(x).replace('Undislosed','0'))\n",
    "data['Amount($)'] = data['Amount($)'].apply(lambda x : str(x).replace('Series C','0'))\n",
    "data['Amount($)'] = data['Amount($)'].apply(lambda x : str(x).replace('Seed','0'))\n",
    "data['Amount($)'] = data['Amount($)'].apply(lambda x : str(x).replace('Upsparks','0'))\n",
    "data['Amount($)'] = data['Amount($)'].apply(lambda x : str(x).replace('ah! Ventures','0'))\n",
    "data['Amount($)'] = data['Amount($)'].apply(lambda x : str(x).replace('ITO Angel Network LetsVenture','0'))\n",
    "data['Amount($)'] = data['Amount($)'].apply(lambda x : str(x).replace('Pre-series A','0'))\n",
    "data['Amount($)'] = data['Amount($)'].apply(lambda x : str(x).replace('JITO Angel Network LetsVenture','0'))\n",
    "data['Amount($)'] = data['Amount($)'].apply(lambda x : str(x).replace('Undiclsosed','0'))\n",
    "data['Amount($)'] = data['Amount($)'].apply(lambda x : str(x).replace('J0','0'))\n",
    "data['Amount($)'] = data['Amount($)'].apply(lambda x : str(x).replace('800000000 to 850000000','875000000'))\n",
    "data['Amount($)'] = data['Amount($)'].apply(lambda x : str(x).replace('887000 23000000','11943500'))\n",
    "data['Amount($)'] = data['Amount($)'].apply(lambda x : str(x).replace(\"''\",\"0\"))\n",
    "data['Amount($)'] = data['Amount($)'].apply(lambda x : str(x).replace('—','0'))\n",
    "data['Amount($)']= data['Amount($)'].replace(r'^\\s*$', np.nan, regex=True)\n",
    "\n",
    "#changing the datatype of the Amount column to float\n",
    "data[\"Amount($)\"] = data['Amount($)'].apply(lambda x:float(x))"
   ]
  },
  {
   "cell_type": "code",
   "execution_count": 27,
   "id": "130e303b",
   "metadata": {},
   "outputs": [
    {
     "data": {
      "text/html": [
       "<div>\n",
       "<style scoped>\n",
       "    .dataframe tbody tr th:only-of-type {\n",
       "        vertical-align: middle;\n",
       "    }\n",
       "\n",
       "    .dataframe tbody tr th {\n",
       "        vertical-align: top;\n",
       "    }\n",
       "\n",
       "    .dataframe thead th {\n",
       "        text-align: right;\n",
       "    }\n",
       "</style>\n",
       "<table border=\"1\" class=\"dataframe\">\n",
       "  <thead>\n",
       "    <tr style=\"text-align: right;\">\n",
       "      <th></th>\n",
       "      <th>Company/Brand</th>\n",
       "      <th>HeadQuarter</th>\n",
       "      <th>Sector</th>\n",
       "      <th>What it does</th>\n",
       "      <th>Amount($)</th>\n",
       "      <th>Stage</th>\n",
       "      <th>Year</th>\n",
       "    </tr>\n",
       "  </thead>\n",
       "  <tbody>\n",
       "    <tr>\n",
       "      <th>0</th>\n",
       "      <td>Bombay Shaving</td>\n",
       "      <td>NaN</td>\n",
       "      <td>Ecommerce</td>\n",
       "      <td>Provides a range of male grooming products</td>\n",
       "      <td>6300000.0</td>\n",
       "      <td>NaN</td>\n",
       "      <td>2019</td>\n",
       "    </tr>\n",
       "    <tr>\n",
       "      <th>1</th>\n",
       "      <td>Ruangguru</td>\n",
       "      <td>Mumbai</td>\n",
       "      <td>Edtech</td>\n",
       "      <td>A learning platform that provides topic-based ...</td>\n",
       "      <td>150000000.0</td>\n",
       "      <td>Series C</td>\n",
       "      <td>2019</td>\n",
       "    </tr>\n",
       "    <tr>\n",
       "      <th>2</th>\n",
       "      <td>Eduisfun</td>\n",
       "      <td>Mumbai</td>\n",
       "      <td>Edtech</td>\n",
       "      <td>It aims to make learning fun via games.</td>\n",
       "      <td>28000000.0</td>\n",
       "      <td>Fresh funding</td>\n",
       "      <td>2019</td>\n",
       "    </tr>\n",
       "    <tr>\n",
       "      <th>3</th>\n",
       "      <td>HomeLane</td>\n",
       "      <td>Chennai</td>\n",
       "      <td>Interior design</td>\n",
       "      <td>Provides interior designing solutions</td>\n",
       "      <td>30000000.0</td>\n",
       "      <td>Series D</td>\n",
       "      <td>2019</td>\n",
       "    </tr>\n",
       "    <tr>\n",
       "      <th>4</th>\n",
       "      <td>Nu Genes</td>\n",
       "      <td>Telangana</td>\n",
       "      <td>AgriTech</td>\n",
       "      <td>It is a seed company engaged in production, pr...</td>\n",
       "      <td>6000000.0</td>\n",
       "      <td>NaN</td>\n",
       "      <td>2019</td>\n",
       "    </tr>\n",
       "  </tbody>\n",
       "</table>\n",
       "</div>"
      ],
      "text/plain": [
       "    Company/Brand HeadQuarter           Sector  \\\n",
       "0  Bombay Shaving         NaN        Ecommerce   \n",
       "1       Ruangguru      Mumbai           Edtech   \n",
       "2        Eduisfun      Mumbai           Edtech   \n",
       "3        HomeLane     Chennai  Interior design   \n",
       "4        Nu Genes   Telangana         AgriTech   \n",
       "\n",
       "                                        What it does    Amount($)  \\\n",
       "0         Provides a range of male grooming products    6300000.0   \n",
       "1  A learning platform that provides topic-based ...  150000000.0   \n",
       "2            It aims to make learning fun via games.   28000000.0   \n",
       "3              Provides interior designing solutions   30000000.0   \n",
       "4  It is a seed company engaged in production, pr...    6000000.0   \n",
       "\n",
       "           Stage  Year  \n",
       "0            NaN  2019  \n",
       "1       Series C  2019  \n",
       "2  Fresh funding  2019  \n",
       "3       Series D  2019  \n",
       "4            NaN  2019  "
      ]
     },
     "execution_count": 27,
     "metadata": {},
     "output_type": "execute_result"
    }
   ],
   "source": [
    "data.head()"
   ]
  },
  {
   "cell_type": "code",
   "execution_count": 28,
   "id": "eb490143",
   "metadata": {},
   "outputs": [
    {
     "name": "stdout",
     "output_type": "stream",
     "text": [
      "<class 'pandas.core.frame.DataFrame'>\n",
      "Int64Index: 2878 entries, 0 to 524\n",
      "Data columns (total 7 columns):\n",
      " #   Column         Non-Null Count  Dtype  \n",
      "---  ------         --------------  -----  \n",
      " 0   Company/Brand  2878 non-null   object \n",
      " 1   HeadQuarter    2764 non-null   object \n",
      " 2   Sector         2860 non-null   object \n",
      " 3   What it does   2878 non-null   object \n",
      " 4   Amount($)      2876 non-null   float64\n",
      " 5   Stage          1940 non-null   object \n",
      " 6   Year           2878 non-null   int64  \n",
      "dtypes: float64(1), int64(1), object(5)\n",
      "memory usage: 179.9+ KB\n"
     ]
    }
   ],
   "source": [
    "data.info()"
   ]
  },
  {
   "cell_type": "markdown",
   "id": "c4bc2376",
   "metadata": {},
   "source": [
    "###### MISSING VALUES IN THE OVERALL DATASET"
   ]
  },
  {
   "cell_type": "code",
   "execution_count": 29,
   "id": "75aad8ff",
   "metadata": {},
   "outputs": [
    {
     "data": {
      "text/plain": [
       "Company/Brand      0\n",
       "HeadQuarter      114\n",
       "Sector            18\n",
       "What it does       0\n",
       "Amount($)          2\n",
       "Stage            938\n",
       "Year               0\n",
       "dtype: int64"
      ]
     },
     "execution_count": 29,
     "metadata": {},
     "output_type": "execute_result"
    }
   ],
   "source": [
    "data.isna().sum()"
   ]
  },
  {
   "cell_type": "code",
   "execution_count": 30,
   "id": "d65830fd",
   "metadata": {},
   "outputs": [
    {
     "data": {
      "text/plain": [
       "Company/Brand     0.000000\n",
       "HeadQuarter       3.961084\n",
       "Sector            0.625434\n",
       "What it does      0.000000\n",
       "Amount($)         0.069493\n",
       "Stage            32.592078\n",
       "Year              0.000000\n",
       "dtype: float64"
      ]
     },
     "execution_count": 30,
     "metadata": {},
     "output_type": "execute_result"
    }
   ],
   "source": [
    "data.isna().sum()/len(data)*100"
   ]
  },
  {
   "cell_type": "markdown",
   "id": "0575c5a9",
   "metadata": {},
   "source": [
    "#### DEALING WITH MISSING VALUES"
   ]
  },
  {
   "cell_type": "markdown",
   "id": "dfd31378",
   "metadata": {},
   "source": [
    "######  INSPECTION INTO THE HEADQUARTER COLUMN\n",
    "\n",
    "Appraoch\n",
    "\n",
    "* Replaced Missing values with the mode of the column"
   ]
  },
  {
   "cell_type": "code",
   "execution_count": 31,
   "id": "7bc2fc2b",
   "metadata": {},
   "outputs": [
    {
     "data": {
      "text/plain": [
       "Bangalore                        764\n",
       "Mumbai                           380\n",
       "Gurugram                         239\n",
       "New Delhi                        181\n",
       "Bangalore, Karnataka, India      101\n",
       "                                ... \n",
       "Samsitpur                          1\n",
       "West Bengal                        1\n",
       "Nagpur                             1\n",
       "Powai                              1\n",
       "Lucknow, Uttar Pradesh, India      1\n",
       "Name: HeadQuarter, Length: 172, dtype: int64"
      ]
     },
     "execution_count": 31,
     "metadata": {},
     "output_type": "execute_result"
    }
   ],
   "source": [
    "data['HeadQuarter'].value_counts()"
   ]
  },
  {
   "cell_type": "code",
   "execution_count": 32,
   "id": "4ba6913d",
   "metadata": {},
   "outputs": [],
   "source": [
    " #Replacing the missing location by the mode of the data.\n",
    "    \n",
    "data['HeadQuarter'] = data.HeadQuarter.apply(lambda x:str(x).replace('nan','Bangalore'))\n"
   ]
  },
  {
   "cell_type": "code",
   "execution_count": 33,
   "id": "c58892e1",
   "metadata": {},
   "outputs": [
    {
     "data": {
      "text/plain": [
       "array(['Bangalore', 'Mumbai', 'Chennai', 'Telangana', 'Pune', 'Noida',\n",
       "       'Delhi', 'Ahmedabad', 'Gurugram', 'Haryana', 'Chandigarh',\n",
       "       'Jaipur', 'New Delhi', 'Surat', 'Uttar pradesh', 'Hyderabad',\n",
       "       'Rajasthan', 'Indore', 'Gurgaon', 'Belgaum', 'Andheri', 'Kolkata',\n",
       "       'Tirunelveli, Tamilnadu', 'Thane', 'Singapore', 'Gujarat',\n",
       "       'Kerala', 'Jodhpur', 'Jaipur, Rajastan',\n",
       "       'Frisco, Texas, United States', 'California', 'Dhingsara, Haryana',\n",
       "       'New York, United States', 'Patna',\n",
       "       'San Francisco, California, United States',\n",
       "       'San Francisco, United States', 'San Ramon, California',\n",
       "       'Paris, Ile-de-France, France', 'Plano, Texas, United States',\n",
       "       'Sydney', 'San Francisco Bay Area, Silicon Valley, West Coast',\n",
       "       'Bangaldesh', 'London, England, United Kingdom',\n",
       "       'Sydney, New South Wales, Australia', 'Milano, Lombardia, Italy',\n",
       "       'Palmwoods, Queensland, Australia', 'France',\n",
       "       'San Francisco Bay Area, West Coast, Western US',\n",
       "       'Trivandrum, Kerala, India', 'Cochin', 'Samastipur, Bihar',\n",
       "       'Irvine, California, United States', 'Tumkur, Karnataka',\n",
       "       'Newcastle Upon Tyne, Newcastle upon Tyne, United Kingdom',\n",
       "       'Shanghai, China', 'Jiaxing, Zhejiang, China', 'Rajastan', 'Kochi',\n",
       "       'Ludhiana', 'Dehradun', 'San Franciscao', 'San Francisco',\n",
       "       'Tangerang, Jawa Barat, Indonesia', 'Berlin', 'Seattle', 'Riyadh',\n",
       "       'Seoul', 'New York', 'Bangkok', 'Kanpur', 'Warangal', 'Hyderebad',\n",
       "       'Odisha', 'Bihar', 'Goa', 'Tamil Nadu', 'Uttar Pradesh', 'Bhopal',\n",
       "       'Banglore', 'Coimbatore', 'Bengaluru', 'Ahmadabad',\n",
       "       'Small Towns, Andhra Pradesh', 'Rajsamand', 'Ranchi',\n",
       "       'Faridabad, Haryana', 'Computer Games', 'Vadodara',\n",
       "       'Food & Beverages', 'Pharmaceuticals\\t#REF!', 'Gurugram\\t#REF!',\n",
       "       'Mohali', 'Powai', 'Ghaziabad', 'Nagpur', 'West Bengal',\n",
       "       'Samsitpur', 'Lucknow', 'Silvassa', 'ThiruvaBangalorethapuram',\n",
       "       'Faridabad', 'Roorkee', 'Ambernath', 'Panchkula', 'Mangalore',\n",
       "       'Telugana', 'Bhubaneswar', 'Kottayam', 'Beijing', 'Panaji',\n",
       "       'Satara', 'Orissia', 'Santra', 'Mountain View, CA', 'Trivandrum',\n",
       "       'Jharkhand', 'Bhilwara', 'Guwahati', 'Online Media\\t#REF!',\n",
       "       'London', 'Information Technology & Services', 'The Nilgiris',\n",
       "       'Gandhinagar', 'Bangalore, Karnataka, India',\n",
       "       'Mumbai, Maharashtra, India', 'Gurgaon, Haryana, India',\n",
       "       'Noida, Uttar Pradesh, India', 'Hyderabad, Andhra Pradesh, India',\n",
       "       'Bengaluru, Karnataka, India', 'Kalkaji, Delhi, India',\n",
       "       'Delhi, Delhi, India', 'India, Asia', 'Hubli, Karnataka, India',\n",
       "       'New Delhi, Delhi, India', 'Chennai, Tamil Nadu, India',\n",
       "       'Mohali, Punjab, India', 'Kolkata, West Bengal, India',\n",
       "       'Pune, Maharashtra, India', 'Jodhpur, Rajasthan, India',\n",
       "       'Kanpur, Uttar Pradesh, India', 'Ahmedabad, Gujarat, India',\n",
       "       'Azadpur, Delhi, India', 'Haryana, Haryana, India',\n",
       "       'Cochin, Kerala, India', 'Faridabad, Haryana, India',\n",
       "       'Jaipur, Rajasthan, India', 'Kota, Rajasthan, India',\n",
       "       'ABangalored, Gujarat, India', 'Bangalore City, Karnataka, India',\n",
       "       'Belgaum, Karnataka, India', 'Thane, Maharashtra, India',\n",
       "       'Margão, Goa, India', 'Indore, Madhya Pradesh, India',\n",
       "       'Alwar, Rajasthan, India', 'Kannur, Kerala, India',\n",
       "       'Ernakulam, Kerala, India', 'Kormangala, Karnataka, India',\n",
       "       'Uttar Pradesh, India, Asia', 'Andheri, Maharashtra, India',\n",
       "       'Mylapore, Tamil Nadu, India', 'Ghaziabad, Uttar Pradesh, India',\n",
       "       'Kochi, Kerala, India', 'Powai, Assam, India',\n",
       "       'Guntur, Andhra Pradesh, India', 'Kalpakkam, Tamil Nadu, India',\n",
       "       'Bhopal, Madhya Pradesh, India', 'Coimbatore, Tamil Nadu, India',\n",
       "       'Worli, Maharashtra, India', 'Alleppey, Kerala, India',\n",
       "       'Chandigarh, Chandigarh, India', 'Guindy, Tamil Nadu, India',\n",
       "       'Lucknow, Uttar Pradesh, India'], dtype=object)"
      ]
     },
     "execution_count": 33,
     "metadata": {},
     "output_type": "execute_result"
    }
   ],
   "source": [
    "data['HeadQuarter'].unique()"
   ]
  },
  {
   "cell_type": "markdown",
   "id": "9fece31a",
   "metadata": {},
   "source": [
    "###### DEALING WITH MISSING VALUES IN THE AMOUNT COLUMN\n",
    "\n",
    "Approach:\n",
    "\n",
    "Replace the missing values with the mean of the values in the column"
   ]
  },
  {
   "cell_type": "code",
   "execution_count": 34,
   "id": "90727b95",
   "metadata": {},
   "outputs": [],
   "source": [
    "avg_amt = data['Amount($)'].mean()\n",
    "data['Amount($)']=  data['Amount($)'].fillna(avg_amt)"
   ]
  },
  {
   "cell_type": "code",
   "execution_count": 35,
   "id": "ae0ed6b1",
   "metadata": {},
   "outputs": [
    {
     "data": {
      "text/plain": [
       "Company/Brand      0\n",
       "HeadQuarter        0\n",
       "Sector            18\n",
       "What it does       0\n",
       "Amount($)          0\n",
       "Stage            938\n",
       "Year               0\n",
       "dtype: int64"
      ]
     },
     "execution_count": 35,
     "metadata": {},
     "output_type": "execute_result"
    }
   ],
   "source": [
    "data.isna().sum()"
   ]
  },
  {
   "cell_type": "markdown",
   "id": "07bfd7f6",
   "metadata": {},
   "source": [
    "###### DEALING WITH MISSING VALUES IN THE STAGE COLUMN\n",
    "\n",
    "Approach\n",
    "* Replace the missing values with another category called Unspecified because the mode value was less than the missing values in the column"
   ]
  },
  {
   "cell_type": "code",
   "execution_count": 36,
   "id": "2518b808",
   "metadata": {},
   "outputs": [
    {
     "data": {
      "text/plain": [
       "Seed             605\n",
       "Series A         305\n",
       "Pre-series A     211\n",
       "Series B         134\n",
       "Series C         114\n",
       "                ... \n",
       "Series C, D        1\n",
       "Seed+              1\n",
       "Series F2          1\n",
       "Series A+          1\n",
       "Funding Round      1\n",
       "Name: Stage, Length: 75, dtype: int64"
      ]
     },
     "execution_count": 36,
     "metadata": {},
     "output_type": "execute_result"
    }
   ],
   "source": [
    "data['Stage'].value_counts()"
   ]
  },
  {
   "cell_type": "code",
   "execution_count": 37,
   "id": "50ace9ca",
   "metadata": {},
   "outputs": [
    {
     "name": "stdout",
     "output_type": "stream",
     "text": [
      "<class 'pandas.core.frame.DataFrame'>\n",
      "Int64Index: 2878 entries, 0 to 524\n",
      "Data columns (total 7 columns):\n",
      " #   Column         Non-Null Count  Dtype  \n",
      "---  ------         --------------  -----  \n",
      " 0   Company/Brand  2878 non-null   object \n",
      " 1   HeadQuarter    2878 non-null   object \n",
      " 2   Sector         2860 non-null   object \n",
      " 3   What it does   2878 non-null   object \n",
      " 4   Amount($)      2878 non-null   float64\n",
      " 5   Stage          2878 non-null   object \n",
      " 6   Year           2878 non-null   int64  \n",
      "dtypes: float64(1), int64(1), object(5)\n",
      "memory usage: 179.9+ KB\n"
     ]
    }
   ],
   "source": [
    "data['Stage'] =data['Stage'].fillna('Unspecified')\n",
    "data.info()"
   ]
  },
  {
   "cell_type": "markdown",
   "id": "640e5af9",
   "metadata": {},
   "source": [
    "###### REPLACING THE ABNORMALIES IN THE STAGE COLUMN\n",
    "\n",
    "Approach:\n",
    "* It was observed that the mode value of the column = 'Seed' covered about 31% of the column and hence replacing all the null values with the mode value will cause the distribution in the column to be biased and skewed towards the right\n",
    "* It came to our realization that the null values will be better off replaced with \"unavailable\" since that would not affect the whole column negatively\n",
    "* It was also observed that there were monetary values in the column which did not take a significat percentage of the column hence they were replaced by the mode('Seed')\n"
   ]
  },
  {
   "cell_type": "code",
   "execution_count": 38,
   "id": "42313dc3",
   "metadata": {},
   "outputs": [],
   "source": [
    "# Replacing the descrepancies with suitable names in the column\n",
    "data['Stage'] = data['Stage'].apply(lambda x : str(x).replace('Pre series A','Pre-series A'))\n",
    "data['Stage'] = data['Stage'].apply(lambda x : str(x).replace('Pre-Series A','Pre-series A'))\n",
    "data['Stage'] = data['Stage'].apply(lambda x : str(x).replace('Pre-series A','Pre-series A'))\n",
    "data['Stage'] = data['Stage'].apply(lambda x : str(x).replace('Seies A','Series A'))\n",
    "data['Stage'] = data['Stage'].apply(lambda x : str(x).replace('Pre-Series B','Pre-series B'))\n",
    "data['Stage'] = data['Stage'].apply(lambda x : str(x).replace('Pre-Series C','Pre-series C'))\n",
    "data['Stage'] = data['Stage'].apply(lambda x : str(x).replace('Post series A','Post-series A'))\n",
    "data['Stage'] = data['Stage'].apply(lambda x : str(x).replace('Pre Series A','Pre-series A'))\n",
    "data['Stage'] = data['Stage'].apply(lambda x : str(x).replace('Pre series A1','Pre-series A'))\n",
    "data['Stage'] = data['Stage'].apply(lambda x : str(x).replace('Pre series B','Pre-series A'))\n",
    "data['Stage'] = data['Stage'].apply(lambda x : str(x).replace('Pre seed round','Pre-seed Round'))\n",
    "data['Stage'] = data['Stage'].apply(lambda x : str(x).replace('Pre-Seed Round','Pre-seed Round'))\n",
    "data['Stage'] = data['Stage'].apply(lambda x : str(x).replace('Seed Round','Seed'))\n",
    "data['Stage'] = data['Stage'].apply(lambda x : str(x).replace('Pre Series A','Pre-Series A'))\n",
    "data['Stage'] = data['Stage'].apply(lambda x : str(x).replace('Pre series C','Pre-series C'))\n",
    "data['Stage'] = data['Stage'].apply(lambda x : str(x).replace('Venture - Series Unknown','Series A'))\n",
    "data['Stage'] = data['Stage'].apply(lambda x : str(x).replace('https://docs.google.com/spreadsheets/d/1x9ziNeaz6auNChIHnMI8U6kS7knTr3byy_YBGfQaoUA/edit#gid=1861303593','Pre-Seed Round'))\n",
    "# replacing the numeric values with the most recurring stage which is the Seed value                                                              \n",
    "data['Stage'] = data['Stage'].apply(lambda x : str(x).replace('$1200000','Seed'))\n",
    "data['Stage'] = data['Stage'].apply(lambda x : str(x).replace('$1000000','Seed'))\n",
    "data['Stage'] = data['Stage'].apply(lambda x : str(x).replace('$300000','Seed'))\n",
    "data['Stage'] = data['Stage'].apply(lambda x : str(x).replace('$6000000','Seed'))\n",
    "\n",
    "# replacing the nan values with 'unavailable' since replacing them with the mode will cause the column to biased and disrupt the distribution \n",
    "# The number of missing values is too significant to just replace with the mode which is also substantial and will cause the distribution to be skewed towards the left                                                              \n",
    "data['Stage'] = data['Stage'].apply(lambda x : str(x).replace('nan','unavailable')) \n"
   ]
  },
  {
   "cell_type": "code",
   "execution_count": 39,
   "id": "5d383655",
   "metadata": {},
   "outputs": [],
   "source": [
    "Specified_Investment_Stages = data[data['Stage']!='Unspecified']['Stage'].value_counts()"
   ]
  },
  {
   "cell_type": "markdown",
   "id": "4fab6c96",
   "metadata": {},
   "source": [
    "###### DEALING WITH MISSING VALUES IN THE SECTOR COLUMN\n",
    "\n",
    "Approach:\n",
    "\n",
    "* Replace the missing values manually through visual inspection"
   ]
  },
  {
   "cell_type": "code",
   "execution_count": 40,
   "id": "0342502c",
   "metadata": {},
   "outputs": [],
   "source": [
    "data.iloc[41, data.columns.get_loc('Sector')] = 'Social Media'\n",
    "data.iloc[49, data.columns.get_loc('Sector')] = 'HR'\n",
    "data.iloc[52, data.columns.get_loc('Sector')] = 'B2B'\n",
    "data.iloc[56, data.columns.get_loc('Sector')] = 'FinTech'\n",
    "data.iloc[57, data.columns.get_loc('Sector')] = 'FinTech'\n",
    "data.iloc[518, data.columns.get_loc('Sector')] = 'Ecommerce'\n",
    "data.iloc[569, data.columns.get_loc('Sector')] = 'Ecommerce'\n",
    "data.iloc[687, data.columns.get_loc('Sector')] = 'Staff and Recruiting'\n",
    "data.iloc[699, data.columns.get_loc('Sector')] = 'Fashion'\n",
    "data.iloc[707, data.columns.get_loc('Sector')] = 'Ecommerce'\n",
    "data.iloc[732, data.columns.get_loc('Sector')] = 'Ecommerce'\n",
    "data.iloc[746, data.columns.get_loc('Sector')] = 'Packaging services'\n",
    "data.iloc[763, data.columns.get_loc('Sector')] = 'Food and Beverages'\n",
    "data.iloc[809, data.columns.get_loc('Sector')] = 'Tech Company'\n",
    "data.iloc[918, data.columns.get_loc('Sector')] = 'FinTech'\n",
    "data.iloc[926, data.columns.get_loc('Sector')] = 'Real Estate'\n",
    "data.iloc[1012, data.columns.get_loc('Sector')] = 'Tech Company'\n",
    "data.iloc[1031, data.columns.get_loc('Sector')] = 'Tech Company'\n",
    "\n",
    "\n"
   ]
  },
  {
   "cell_type": "code",
   "execution_count": 41,
   "id": "fcac0ad1",
   "metadata": {
    "scrolled": false
   },
   "outputs": [
    {
     "data": {
      "text/plain": [
       "array(['Ecommerce', 'Edtech', 'Interior design', 'AgriTech', 'Technology',\n",
       "       'SaaS', 'AI & Tech', 'E-commerce', 'E-commerce & AR', 'Fintech',\n",
       "       'HR tech', 'Food tech', 'Health', 'Healthcare', 'Safety tech',\n",
       "       'Pharmaceutical', 'Insurance technology', 'AI', 'Foodtech', 'Food',\n",
       "       'IoT', 'E-marketplace', 'Robotics & AI', 'Logistics', 'Travel',\n",
       "       'Manufacturing', 'Food & Nutrition', 'Social Media', 'E-Sports',\n",
       "       'HR', 'Cosmetics', 'B2B', 'Jewellery', 'B2B Supply Chain', 'Games',\n",
       "       'FinTech', 'Food & tech', 'Accomodation', 'Automotive tech',\n",
       "       'Legal tech', 'Mutual Funds', 'Cybersecurity', 'Automobile',\n",
       "       'Sports', 'Healthtech', 'Yoga & wellness', 'Virtual Banking',\n",
       "       'Transportation', 'Transport & Rentals',\n",
       "       'Marketing & Customer loyalty', 'Infratech', 'Hospitality',\n",
       "       'Automobile & Technology', 'Banking', 'EdTech',\n",
       "       'Hygiene management', 'Escrow', 'Networking platform',\n",
       "       'Crowdsourcing', 'Food & Bevarages', 'HealthTech',\n",
       "       'Fashion startup', 'Food Industry', 'Food Delivery',\n",
       "       'Virtual auditing startup', 'Gaming', 'Work fulfillment',\n",
       "       'AI startup', 'Telecommunication', 'Tech Startup', 'Retail',\n",
       "       'Medtech', 'Tyre management', 'Cloud company', 'Software company',\n",
       "       'Venture capitalist', 'Renewable player', 'IoT startup',\n",
       "       'SaaS startup', 'Aero company', 'Marketing company',\n",
       "       'Retail startup', 'Co-working Startup', 'Finance company',\n",
       "       'Tech company', 'Solar Monitoring Company',\n",
       "       'Video sharing platform', 'Gaming startup',\n",
       "       'Video streaming platform', 'Consumer appliances',\n",
       "       'Blockchain startup', 'Conversational AI platform', 'Real Estate',\n",
       "       'SaaS platform', 'AI platform', 'Fusion beverages', 'HR Tech',\n",
       "       'Job portal', 'Digital Media', 'Dairy startup',\n",
       "       'Content management', 'Spacetech', 'Trading platform',\n",
       "       'AI Company', 'Photonics startup', 'Entertainment', 'Scanning app',\n",
       "       'Skincare startup', 'Food and Beverages', 'Biotechnology company',\n",
       "       'FoodTech', 'Proptech', 'CleanTech', 'Fitness startup',\n",
       "       'PaaS startup', 'Beverages', 'Automobiles', 'Deeptech',\n",
       "       'EV startup', 'AR/VR startup', 'Recruitment startup',\n",
       "       'QSR startup', 'Video platform', 'Fertility tech',\n",
       "       'Luxury car startup', 'FM', 'Nutrition sector', 'Tech platform',\n",
       "       'Video', 'Retail Tech', 'HeathTech', 'Sles and marketing',\n",
       "       'LegalTech', 'Car Service', 'Bike marketplace', 'Agri tech',\n",
       "       'Reatil startup', 'AR platform', 'Consumer Goods',\n",
       "       'Content marketplace', 'Interior Design', 'Rental space',\n",
       "       'Soil-Tech', 'Ayurveda tech', 'Packaging solution startup',\n",
       "       'Cleantech', 'Sanitation solutions', 'HealthCare', 'Home Design',\n",
       "       'InsureTech', 'AI Startup', 'Solar solution', 'Jewellery startup',\n",
       "       'Multinational conglomerate company', 'Deeptech startup',\n",
       "       'Social Network', 'Publication', 'Tech', 'Fashion', 'Finance',\n",
       "       'Venture capital', 'Entreprenurship', 'Food devlivery',\n",
       "       'Warehouse', 'Online financial service', 'Eyeglasses',\n",
       "       'Battery design', 'Online credit management startup', 'Beverage',\n",
       "       'TravelTech', 'Agriculture', 'Startup laboratory',\n",
       "       'Personal care startup', 'Customer service company',\n",
       "       'SaaS\\xa0\\xa0startup', 'Marketing startup', 'Service industry',\n",
       "       'Social media', 'AR startup', 'HR Tech startup',\n",
       "       'Automotive Startup', 'Food Startup', 'EdTech Startup',\n",
       "       'Car Trade', 'EdtTech', 'AI Platform', 'Automation', 'Solar SaaS',\n",
       "       'WL & RAC protection', 'Social commerce', 'Home interior services',\n",
       "       'Agritech startup', 'API platform', 'Deep Tech', 'Electricity',\n",
       "       'Automotive company', 'FMCG', 'Insurance Tech',\n",
       "       'Video personalization', 'Software Company', 'Biomaterial startup',\n",
       "       'IT', 'Craft Beer', 'Education', 'Investment',\n",
       "       'Linguistic Spiritual', 'Construction', 'Battery manufacturer',\n",
       "       'Nano Distribution Network', 'AI health', 'Dating app', 'Media',\n",
       "       'Healthcare/Edtech', 'Social Commerce', 'Agritech/Commerce',\n",
       "       'Mobility tech', 'Social e-commerce', 'Food & Logistics',\n",
       "       'SpaceTech', 'Nutrition Tech', nan, 'Agritech', 'AR/VR',\n",
       "       'Appliance', 'Mental Health', 'Solar Solution', 'B2B marketplace',\n",
       "       'Fashion Tech', 'Nutrition tech', 'Health & Wellness',\n",
       "       'Cloud Kitchen', 'IoT/Automobile', 'Eye Wear', 'Digital tech',\n",
       "       'Data Intelligence', 'Co-living', 'Staff and Recruiting',\n",
       "       'Automotive', 'Defense tech', 'Marketplace', 'Construction tech',\n",
       "       'Nutrition', 'Coworking', 'Micro-mobiity', 'Auto-tech', 'Beauty',\n",
       "       'Robotics', 'Logitech', 'Med Tech', 'Life sciences',\n",
       "       'Retail Aggregator', 'Deep Tech AI', 'Biotech', 'Blockchain',\n",
       "       'HrTech', 'Mobility/Transport', 'Packaging services', 'Rental',\n",
       "       'AI & Debt', 'SaaS/Edtech', 'Transport', 'Insurtech',\n",
       "       'Cryptocurrency', 'Legal', 'Fitness', 'EV',\n",
       "       'Supply chain, Agritech', 'Pharma', 'Tech Company',\n",
       "       'Foodtech & Logistics', 'Housing', 'Data Analytics',\n",
       "       'Investment Tech', 'Financial Services', 'Biopharma', 'Dairy',\n",
       "       'Beauty & wellness', 'Travel & SaaS', 'Tourism & EV', 'Media Tech',\n",
       "       'Location Analytics', 'E store', 'Data Science', 'Insurance',\n",
       "       'Health and Fitness', 'eMobility', 'Automation tech',\n",
       "       'Media & Networking', 'E-market', 'Food & Beverages',\n",
       "       'AI & Data science', 'Travel tech', 'Automotive and Rentals',\n",
       "       'E-tail', 'AI & Media', 'Machine Learning', 'Content Marktplace',\n",
       "       'Visual Media', 'Hygiene', 'VR & SaaS', 'Sales & Services',\n",
       "       'AI & Deep learning', 'Housing & Rentals', 'Co-working', 'Estore',\n",
       "       'Marketing', 'E tailor', 'E-mobility', 'Ad-tech', 'Neo-banking',\n",
       "       'Transport Automation', 'Techonology', 'AI Robotics',\n",
       "       'Preschool Daycare', 'Food diet', 'B2B Agritech', 'E-connect',\n",
       "       'Tech hub', 'Consultancy', 'Pharmacy', 'Deisgning', 'Taxation',\n",
       "       'Automobile Technology', 'B2B E-commerce', 'Home services',\n",
       "       'B2B service', 'Helathcare', 'Renewable Energy', 'Electronics',\n",
       "       'IT startup', 'Aeorspace', 'Dating', 'Oil and Energy',\n",
       "       'Telecommuncation', 'Milk startup', 'AI Chatbot', 'Food delivery',\n",
       "       'Fantasy sports', 'Video communication', 'Skill development',\n",
       "       'Recruitment', 'Computer Games', 'Information Technology',\n",
       "       'Apparel & Fashion', 'Logistics & Supply Chain', 'SportsTech',\n",
       "       'HRTech', 'Wine & Spirits', 'Mechanical & Industrial Engineering',\n",
       "       'Spiritual', 'Industrial Automation', 'Lifestyle',\n",
       "       'Computer software', 'Tech startup', 'Digital mortgage',\n",
       "       'Information Technology & Services', 'Furniture', 'Healtcare',\n",
       "       'Consumer Electronics', 'Tobacco', 'Insuretech', 'MLOps platform',\n",
       "       'Venture Capital', 'Pet care', 'Drone', 'Wholesale', 'E-learning',\n",
       "       'Consumer Services', 'Venture Capital & Private Equity',\n",
       "       'Health, Wellness & Fitness', 'OTT', 'Education Management',\n",
       "       'Computer Software', 'Software Startup',\n",
       "       'Computer & Network Security', 'Capital Markets', 'Social network',\n",
       "       'Hospital & Health Care', 'Music', 'Hauz Khas',\n",
       "       'Primary Business is Development and Manufacturing of Novel Healthcare Products in Effervescent forms using imported propriety ingredients.',\n",
       "       \"MoEVing is India's only Electric Mobility focused Technology Platform with a vision to accelerate EV adoption in India.\",\n",
       "       'Mobility', 'Digital platform', 'B2B Ecommerce', 'Online Media',\n",
       "       'Mobile Games', 'Food Production', 'Podcast', 'Battery',\n",
       "       'Content publishing', 'Water purification', 'Content commerce',\n",
       "       'Innovation Management', 'Celebrity Engagement', 'Personal Care',\n",
       "       'Cannabis startup', 'Blogging', 'Consulting', 'BioTechnology',\n",
       "       'B2B Marketplace', 'Health care', 'Social audio',\n",
       "       'Fashion and lifestyle', 'Delivery service', 'B2B Manufacturing',\n",
       "       'Home Decor', 'Solar', 'TaaS startup', 'Manufacturing startup',\n",
       "       'Vehicle repair startup', 'Advisory firm', 'Legaltech',\n",
       "       'Pollution control equiptment', 'Fashion & Lifestyle', 'D2C',\n",
       "       'Environmental Services', 'Merchandise', 'Facilities Services',\n",
       "       'Marketing & Advertising', 'Human Resources', 'Eyewear',\n",
       "       'D2C Business', 'Biotechnology', 'Farming', 'NFT Marketplace',\n",
       "       'Internet', 'Consumer software', 'Social community', 'Fishery',\n",
       "       'Renewables & Environment', 'Online storytelling', 'Aviation',\n",
       "       'IT company', 'Environmental service', 'Job discovery platform',\n",
       "       'D2C Fashion', 'Heathcare', 'CRM', 'Software', 'D2C startup',\n",
       "       'Innovation management', 'Community platform', 'Networking',\n",
       "       'Commercial Real Estate', 'Consumer service', 'Consumer goods',\n",
       "       'MarTech', 'Advertisement', 'Content creation',\n",
       "       'Augmented reality', 'Bike Rental', 'Beauty products', 'Tourism',\n",
       "       'FemTech', 'Cultural', 'Supply chain platform', 'Social platform',\n",
       "       'Real estate', 'AI company', 'Sports startup', 'Matrimony',\n",
       "       'Crypto', 'Clothing', 'Analytics', 'IoT platform', 'Commerce',\n",
       "       'Defense & Space', 'Business Supplies & Equipment', 'NFT',\n",
       "       'Oil & Energy', 'Company-as-a-Service', 'Textiles',\n",
       "       'Professional Training & Coaching', 'Maritime',\n",
       "       'Housing Marketplace', 'Furniture Rental', 'Telecommunications',\n",
       "       'Equity Management', 'Cloud kitchen', 'Nanotechnology',\n",
       "       'Community', 'Higher Education',\n",
       "       'Mechanical Or Industrial Engineering', 'D2C jewellery',\n",
       "       'Sales and Distribution', 'Information Services',\n",
       "       'Translation & Localization', 'Investment Banking', 'Femtech',\n",
       "       'sports', 'Foootwear', 'Legal Services', 'Veterinary',\n",
       "       'Arts & Crafts', 'Investment Management', 'Management Consulting',\n",
       "       'B2B startup',\n",
       "       'Sochcast is an Audio experiences company that give the listener and creators an Immersive Audio experience',\n",
       "       'Design', 'B2B Travel', 'Manchester, Greater Manchester',\n",
       "       'Product studio', 'Aviation & Aerospace', 'Staffing & Recruiting',\n",
       "       'Brand Marketing, Event Promotion, Marketing, Sponsorship, Ticketing',\n",
       "       'Agriculture, Farming',\n",
       "       'Credit, Financial Services, Lending, Marketplace',\n",
       "       'Financial Services, FinTech',\n",
       "       'E-Commerce Platforms, Retail, SaaS',\n",
       "       'Cloud Infrastructure, PaaS, SaaS',\n",
       "       'Internet, Leisure, Marketplace', 'Market Research',\n",
       "       'Information Services, Information Technology', 'Mobile Payments',\n",
       "       'B2B, Shoes',\n",
       "       'Apps, Collaboration, Developer Platform, Enterprise Software, Messaging, Productivity Tools, Video Chat',\n",
       "       'Automotive, Search Engine, Service Industry',\n",
       "       'Finance, Internet, Travel',\n",
       "       'Accounting, Business Information Systems, Business Travel, Finance, SaaS',\n",
       "       'Artificial Intelligence, Product Search, SaaS, Service Industry, Software',\n",
       "       'Internet of Things, Waste Management',\n",
       "       'Air Transportation, Freight Service, Logistics, Marine Transportation',\n",
       "       'Food and Beverage', 'Autonomous Vehicles',\n",
       "       'Enterprise Software, Health Care, Hospital, Parenting, Personal Health, SaaS',\n",
       "       'Agriculture, Analytics, Big Data, Farming',\n",
       "       'Logistics, Supply Chain Management',\n",
       "       'Financial Services, Lending',\n",
       "       'Automotive, Marketplace, Online Portals',\n",
       "       'Artificial Intelligence',\n",
       "       'Internet of Things, Telecommunications',\n",
       "       'Information Technology, Logistics, Supply Chain Management',\n",
       "       'Blockchain, Developer Tools, Enterprise Software',\n",
       "       'Industrial Automation, Logistics, Supply Chain Management',\n",
       "       'Food and Beverage, Food Delivery, Snack Food',\n",
       "       'E-Commerce, Fashion, Jewelry, Retail', 'E-Learning, Education',\n",
       "       'Clean Energy, CleanTech, Laundry and Dry-cleaning',\n",
       "       'E-Commerce, Fashion, Mobile',\n",
       "       'Apps, Messaging, Navigation, Public Safety',\n",
       "       'Fitness, Health Care, Wellness',\n",
       "       'Artificial Intelligence, Machine Learning, SaaS, Virtual Assistant',\n",
       "       'Food and Beverage, Tea',\n",
       "       'Media and Entertainment, News, Outdoors',\n",
       "       'Broadcasting, Media and Entertainment, Music, Music Streaming, Video, Video Streaming',\n",
       "       'B2B, Information Services, Information Technology',\n",
       "       'EdTech, Education, Enterprise Software, Peer to Peer',\n",
       "       'Health Care, Medical', 'E-Commerce',\n",
       "       'Health Care, Hospital, Wellness', '—',\n",
       "       'Big Data, Consumer Lending, FinTech',\n",
       "       'Cloud Computing, Computer, Semiconductor',\n",
       "       'Health Care, Medical, Pharmaceutical', 'Food Processing, Retail',\n",
       "       'Trading Platform', \"Consumer Goods, Lifestyle, Men's\", 'Wellness',\n",
       "       'Food and Beverage, Food Processing, Nutrition',\n",
       "       'Automotive, Electric Vehicle, Energy Storage',\n",
       "       'Consulting, Retail, Social',\n",
       "       'Biotechnology, Life Science, Pharmaceutical, Product Research',\n",
       "       'Health Care',\n",
       "       'Credit, Financial Services, FinTech, Personal Finance',\n",
       "       'Communities, Coworking, Incubators',\n",
       "       'Consumer, Financial Services, FinTech',\n",
       "       'Consumer Applications, Information Services, Location Based Services, Virtual Assistant',\n",
       "       'Mobile, Mobile Apps, Personalization, Test and Measurement, Web Apps',\n",
       "       'Education, Financial Services, FinTech',\n",
       "       'Advertising, Consulting, Digital Marketing',\n",
       "       'Marketplace, Real Estate, Rental Property',\n",
       "       'E-Learning, Internet, Video Games',\n",
       "       'Artificial Intelligence, Cloud Computing, Video',\n",
       "       'Health Care, Information Technology', 'Aerospace',\n",
       "       'E-Commerce, Fashion, Lifestyle',\n",
       "       'Artificial Intelligence, Business Intelligence, Industrial Automation, Machine Learning',\n",
       "       'Home Decor, Home Improvement, Home Renovation, Home Services, Interior Design, Smart Home',\n",
       "       'EdTech, Education, Information Services, SaaS', 'Energy, Solar',\n",
       "       'B2B, Biometrics, Cyber Security, Fraud Detection, SaaS, Security',\n",
       "       'Artificial Intelligence, Social',\n",
       "       'Logistics, Transportation, Travel',\n",
       "       'Digital Marketing, SEM, SEO, Web Development',\n",
       "       'Health Care, Hospital, Medical', 'Finance, Financial Services',\n",
       "       'Food Delivery, Food Processing, Internet',\n",
       "       'E-Commerce, Food and Beverage, Internet',\n",
       "       'Fitness, Food and Beverage, Health Care, Nutrition',\n",
       "       'EdTech, Education, Knowledge Management',\n",
       "       'Apps, Beauty, Consumer, Retail',\n",
       "       'Creative Agency, Crowdfunding, EdTech, Health Care, Internet, Medical, Non Profit, Personal Health',\n",
       "       'Consumer Lending, Financial Services, FinTech, Insurance, Lending, Mobile Payments, Payments, Wealth Management',\n",
       "       'E-Learning, Education, Higher Education', 'Health Diagnostics',\n",
       "       'EdTech, Education', 'Financial Services, SaaS, Security',\n",
       "       'Banking, Finance, Financial Services, Non Profit',\n",
       "       'B2B, E-Commerce, Mobile',\n",
       "       'Automotive, Electric Vehicle, Renewable Energy', 'E-Learning',\n",
       "       'Embedded Systems, Health Care, Medical, Product Research',\n",
       "       'Apps, E-Commerce, Internet',\n",
       "       'Advertising, Human Resources, Marketing',\n",
       "       'Beauty, Fitness, Home Services, Internet',\n",
       "       'Health Care, Medical Device, Public Safety',\n",
       "       'Food Delivery, Online Portals, Restaurants',\n",
       "       'AgTech, B2B, Supply Chain Management',\n",
       "       'Credit Cards, Finance, Mobile Apps, Mobile Payments, Payments',\n",
       "       'EdTech, Education, Higher Education, Secondary Education',\n",
       "       'Manufacturing, Retail',\n",
       "       'Information Services, Information Technology, InsurTech',\n",
       "       'Consumer Lending, FinTech', 'Internet, Social Network, TV',\n",
       "       'Beauty, Health Care', 'Hospital', 'Events',\n",
       "       '3D Printing, Manufacturing, Product Design', 'Automotive, Retail',\n",
       "       'Apps, Audio', 'Automotive, E-Commerce',\n",
       "       'Digital Entertainment, Fantasy Sports, Sports',\n",
       "       'E-Learning, EdTech, Education',\n",
       "       'Funding Platform, Incubators, Non Profit',\n",
       "       'Hospitality, Hotel, Leisure, Travel',\n",
       "       'Classifieds, Internet, Marketplace, Rental Property',\n",
       "       'Banking, E-Learning, Trading Platform',\n",
       "       'E-Commerce, Mobile, Retail',\n",
       "       'Artificial Intelligence, Information Technology',\n",
       "       'Enterprise Resource Planning (ERP), Information Services, Information Technology, Real Estate',\n",
       "       'Banking, Finance, Financial Services',\n",
       "       'Audio, Mobile, Tourism, Travel',\n",
       "       'Energy, Energy Storage, Infrastructure',\n",
       "       'Government, Information Technology, Software',\n",
       "       'Education, Information Technology, Internet, Mobile, Software',\n",
       "       'Consumer Lending, Financial Services, Lending, Personal Finance',\n",
       "       'Digital Media, Internet, Media and Entertainment, Online Portals, Social Media',\n",
       "       'Business Intelligence, Customer Service, Market Research, SaaS',\n",
       "       'Credit, Financial Services, FinTech, Lending',\n",
       "       'Children, Education, Parenting',\n",
       "       'Automotive, Battery, Energy, Energy Storage',\n",
       "       'E-Commerce, Mobile, Sharing Economy',\n",
       "       'Food Delivery, Organic, Organic Food', 'Mobile', 'Consumer',\n",
       "       'B2B, Farming, Marketplace', 'Wealth Management',\n",
       "       'Education, Gaming, Training',\n",
       "       'Internet, Mobile, Social Entrepreneurship, Telecommunications, Wireless',\n",
       "       'Health Care, Hospital, Supply Chain Management',\n",
       "       'Tourism, Travel', 'Hospitality, Real Estate',\n",
       "       'Digital Media, EBooks, Publishing, Reading Apps',\n",
       "       'Consumer Electronics, Embedded Systems, Hardware, Smart Building, Software',\n",
       "       'Food and Beverage, Food Processing',\n",
       "       'Internet, Marketplace, Shopping',\n",
       "       'Analytics, Computer Vision, Enterprise Software, Machine Learning, Natural Language Processing, Speech Recognition',\n",
       "       'Facilities Support Services',\n",
       "       'Automotive, Electric Vehicle, Energy',\n",
       "       'Health Care, Health Diagnostics, Predictive Analytics',\n",
       "       'Cloud Computing, Computer, SaaS, Software',\n",
       "       'Fashion, Lifestyle, Retail', 'Medical', 'Music Streaming',\n",
       "       'Finance, Impact Investing, Internet',\n",
       "       'Internet, Social Entrepreneurship',\n",
       "       'Finance, Impact Investing, Mobile Apps',\n",
       "       'Cloud Computing, Computer, Software',\n",
       "       'Business Development, Market Research, Outsourcing',\n",
       "       'Health Care, Hospitality', 'Internet, Social News, Sports',\n",
       "       'Finance, Financial Services, FinTech',\n",
       "       'Customer Service, Software, Video, Video Streaming',\n",
       "       'E-Commerce, Food Processing', 'Training',\n",
       "       'Dietary Supplements, Food and Beverage, Health Care, Organic Food, Snack Food',\n",
       "       'Manufacturing, Oil and Gas, Robotics',\n",
       "       'Artificial Intelligence, Computer, Machine Learning',\n",
       "       'Collaboration, Communities, Coworking, Sharing Economy',\n",
       "       'Big Data, EdTech, Machine Learning',\n",
       "       'Analytics, Audio, Digital Media, Innovation Management, Internet Radio, Media and Entertainment',\n",
       "       'Financial Services, Lending, Peer to Peer',\n",
       "       'E-Commerce, Furniture, Home Decor, Interior Design, Internet',\n",
       "       'File Sharing, Personalization, Social Media',\n",
       "       'Home Decor, Interior Design',\n",
       "       'Health Care, Medical Device, Mobile Apps',\n",
       "       'E-Commerce, Facilities Support Services, Procurement, Supply Chain Management',\n",
       "       'Crowdfunding, Finance, Financial Services',\n",
       "       'Finance, Financial Services, Insurance',\n",
       "       'Children, Education, Online Portals', 'Software, Virtual Reality',\n",
       "       'B2B, Food and Beverage, Food Delivery',\n",
       "       'Catering, Food and Beverage, Food Delivery, Food Processing',\n",
       "       'Food and Beverage, Snack Food', 'Automotive, E-Commerce, Mobile',\n",
       "       'Computer, Digital Marketing, Facilities Support Services, Graphic Design, Internet, Mobile Apps, Social Media Marketing, Web Development',\n",
       "       'Android, Big Data, Blockchain, Cloud Computing, EdTech, Education, Information Technology, iOS, Training, Web Development',\n",
       "       'Analytics, CRM, Loyalty Programs, Machine Learning, Marketing Automation, Retail Technology, SaaS, Small and Medium Businesses',\n",
       "       'Delivery, Information Technology, Mobile Apps',\n",
       "       'Environmental Consulting, Renewable Energy',\n",
       "       'Big Data, Business Intelligence, Financial Services, FinTech, Personal Finance',\n",
       "       'Commercial Real Estate, Coworking, Office Administration, Real Estate',\n",
       "       'Food and Beverage, Food Processing, Organic Food, Snack Food',\n",
       "       'Apps, Health Care, Internet, Mobile Apps, Personal Health',\n",
       "       'Digital Media, Incubators, Social Entrepreneurship',\n",
       "       'Finance, Financial Services, Marketing',\n",
       "       'Biotechnology, Health Care, Life Science, Medical Device',\n",
       "       'Education, Human Resources',\n",
       "       'Apps, Health Care, Hospital, Mobile Apps',\n",
       "       'Delivery Service, Logistics, Service Industry',\n",
       "       'Big Data, Data Visualization, Logistics, Software',\n",
       "       'Basketball, Cricket, Cycling, eSports, Fitness, Golf, Health Care, Hockey, Sports, Swimming, Table Tennis, Volley Ball',\n",
       "       'Media and Entertainment, News, Publishing',\n",
       "       'Big Data, Financial Services, Machine Learning, Predictive Analytics',\n",
       "       'Agriculture, AgTech, Manufacturing',\n",
       "       'Digital Media, News, Publishing', 'Health Care, Hospital',\n",
       "       'B2B, E-Commerce, Enterprise',\n",
       "       'Fraud Detection, Information Services, Security',\n",
       "       'Agriculture, AgTech, Artificial Intelligence, Internet of Things, Machine Learning',\n",
       "       'Cryptocurrency, Trading Platform',\n",
       "       'Finance, FinTech, Mobile Payments', 'Wedding',\n",
       "       'E-Learning, EdTech, Education, Image Recognition, Machine Learning, STEM Education',\n",
       "       'Digital Entertainment',\n",
       "       'Crowdsourcing, Financial Services, Funding Platform, Venture Capital',\n",
       "       'Delivery, Drones, Geospatial, Robotics',\n",
       "       'Health Care, Information Technology, Management Information Systems',\n",
       "       'Business Travel, Hospitality, Hotel, Marketplace, Tourism, Travel Accommodations',\n",
       "       'Career Planning, Education, Higher Education, Service Industry',\n",
       "       'Medical Device', 'Alternative Medicine, Health Care',\n",
       "       'Internet, Software',\n",
       "       'Dental, Elder Care, Health Care, Home Health Care, Personal Health',\n",
       "       'Financial Services, Insurance, Private Social Networking',\n",
       "       'Consumer Electronics, E-Commerce, E-Commerce Platforms, Electronics, Shipping, Shopping',\n",
       "       'Advertising, Internet, Marketing',\n",
       "       'Human Resources, Security, Training',\n",
       "       'Consumer Lending, Finance, FinTech',\n",
       "       'Marketing, Social Media, Video', 'Food Processing', 'Apps',\n",
       "       'Apps, B2B, Freight Service, Logistics, SaaS, Shipping, Supply Chain Management, Transportation',\n",
       "       'Digital Entertainment, Fantasy Sports, Gaming, Sports',\n",
       "       'Automotive, Last Mile Transportation, Peer to Peer, Ride Sharing',\n",
       "       'Commercial, E-Learning, Education',\n",
       "       'Continuing Education, EdTech, Education, Skill Assessment',\n",
       "       'Smart Cities, Telecommunications', 'Internet of Things, Robotics',\n",
       "       'Apps, Home Services, Information Services, Information Technology',\n",
       "       'Medical, Tourism', 'Career Planning, Education, Internet',\n",
       "       'Fashion, Graphic Design, Wearables',\n",
       "       'Communities, Leisure, Mobile Apps, Software',\n",
       "       'Automotive, Rental, Sharing Economy',\n",
       "       'Energy, Environmental Consulting, Renewable Energy, Solar',\n",
       "       'Information Technology, SaaS, Security',\n",
       "       'Crowdfunding, Financial Services, Internet',\n",
       "       'Customer Service, Information Technology, Internet, Sales Automation',\n",
       "       'Advertising, Artificial Intelligence, Digital Media, iOS, Location Based Services, News, Video, Video on Demand, Video Streaming',\n",
       "       'Credit Cards, Payments, Property Insurance, Property Management, Rental Property',\n",
       "       'Beauty, Cosmetics, Health Care, Service Industry',\n",
       "       'EdTech, Education, Mobile, Tutoring', 'Social Media, Sports',\n",
       "       'E-Commerce, E-Commerce Platforms, Retail',\n",
       "       'E-Commerce, Fashion, Shopping',\n",
       "       'Digital Entertainment, Mobile, PC Games',\n",
       "       'Finance, Financial Services, Small and Medium Businesses',\n",
       "       'Artificial Intelligence, Energy, Oil and Gas',\n",
       "       'Computer, FinTech, Risk Management, Software',\n",
       "       'Apps, Financial Services, FinTech',\n",
       "       \"Child Care, Health Care, Hospital, Medical, Women's\",\n",
       "       'Agriculture, Mobile',\n",
       "       'Finance, FinTech, Payments, Property Development, Rental',\n",
       "       'Information Services, Information Technology, Mobile, Software',\n",
       "       'Apps, Fitness, Health Care, mHealth',\n",
       "       'Food and Beverage, Food Delivery', 'Apps, Payments, Retail',\n",
       "       'Health Insurance, Insurance, Life Insurance',\n",
       "       'Rental, Taxi Service, Travel',\n",
       "       'E-Commerce, E-Commerce Platforms, Internet, Retail',\n",
       "       'Financial Services, Professional Services',\n",
       "       'Customer Service, Messaging, Mobile Apps, Personalization',\n",
       "       'Gaming, iOS, Sports',\n",
       "       'E-Commerce, E-Commerce Platforms, Internet, Mobile Apps, Social Media',\n",
       "       'Search Engine',\n",
       "       'Battery, Electric Vehicle, Energy, Renewable Energy, Transportation',\n",
       "       'Agriculture, Farmers Market, Farming',\n",
       "       'Artificial Intelligence, Drones, Navigation, Packaging Services, Robotics',\n",
       "       'Fitness, GreenTech, Internet of Things, Mobile Apps, Ride Sharing, Transportation',\n",
       "       'Mobile, Software, Travel',\n",
       "       'Consulting, Cyber Security, Network Security',\n",
       "       'eSports, Gaming, Video Games', 'Fashion, Jewelry',\n",
       "       'B2B, Medical Device', 'Consumer Goods, Manufacturing',\n",
       "       'Biotechnology, Health Care, Wellness',\n",
       "       'Health Care, Hospital, Medical, Robotics',\n",
       "       'E-Commerce, Fitness, Health Care',\n",
       "       'Financial Services, Venture Capital', 'Accounting, Apps, FinTech',\n",
       "       'Apps, Mobile, Transportation', 'Reading Apps',\n",
       "       'Energy, Renewable Energy, Solar',\n",
       "       'Banking, Financial Services, FinTech', 'Apps, Education, Retail',\n",
       "       'Electric Vehicle',\n",
       "       'Automotive, Battery, Electric Vehicle, Manufacturing, Mechanical Design',\n",
       "       'Automotive, E-Commerce, Marketplace',\n",
       "       'Apps, Information Services, Information Technology',\n",
       "       'B2B, Marketplace', 'Packaging Services',\n",
       "       'Computer, Furniture, Software',\n",
       "       'Food Delivery, Hospitality, Reservations, Restaurants, Search Engine',\n",
       "       'Collaboration, Communities, Coworking, Real Estate',\n",
       "       'Accounting, Banking, Finance',\n",
       "       'Cloud Computing, Enterprise Software, Network Hardware, Network Security, SaaS',\n",
       "       'Information Services, Internet, Logistics, Supply Chain Management, Transportation',\n",
       "       'Automotive, E-Commerce, Information Services',\n",
       "       'Delivery, Logistics, Transportation',\n",
       "       'Automotive, E-Commerce Platforms, Marketplace',\n",
       "       'Last Mile Transportation, Railroad, Transportation, Travel',\n",
       "       'Cooking, E-Commerce, Food and Beverage, Food Delivery, Online Portals',\n",
       "       'FinTech, Mobile, Mobile Payments, Payments, Retail Technology',\n",
       "       'Online Games, Software',\n",
       "       'Online Portals, Property Management, Rental',\n",
       "       'E-Commerce, Food and Beverage, Tea',\n",
       "       'Music, Social Network, Video',\n",
       "       'Health Care, Pharmaceutical, Wellness',\n",
       "       'Delivery Service, Food and Beverage, Food Delivery',\n",
       "       'Hospitality, Information Technology, Travel Accommodations',\n",
       "       'Biotechnology, Diabetes, Health Care',\n",
       "       'Autonomous Vehicles, Last Mile Transportation, Recreational Vehicles, Rental',\n",
       "       'Finance, Financial Exchanges, Financial Services, Micro Lending',\n",
       "       'Analytics, Apps, Market Research',\n",
       "       'E-Commerce, E-Commerce Platforms, Furniture, Home Decor, Internet',\n",
       "       'Apps, Mobile, Mobile Apps, Software',\n",
       "       'News, Publishing, Social Media',\n",
       "       'Industrial, Industrial Automation',\n",
       "       'Internet, Mobile Apps, Social Network',\n",
       "       'Health Care, Health Diagnostics, Internet of Things, Life Science, Machine Learning, Medical, Medical Device',\n",
       "       'E-Commerce, Furniture, Interior Design', 'Apps, Events, News',\n",
       "       'Artificial Intelligence, Human Resources, Information Services, Information Technology',\n",
       "       'Logistics, Railroad, Transportation',\n",
       "       'Dating, Private Social Networking',\n",
       "       'Artificial Intelligence, Machine Learning, PaaS',\n",
       "       'Consumer, Furniture, Home Decor, Home Improvement',\n",
       "       'Apps, E-Commerce, Internet, Mobile, Ride Sharing, Transportation',\n",
       "       'Health Care, Health Insurance', 'Energy, Natural Resources',\n",
       "       'E-Commerce, Education, Health Care',\n",
       "       'Apps, Health Care, Pharmaceutical',\n",
       "       'Internet, Knowledge Management',\n",
       "       'Credit, Finance, FinTech, Lending, Sales Automation',\n",
       "       'Banking, Financial Services, Internet',\n",
       "       'E-Commerce, Health Care, Retail',\n",
       "       'Child Care, Information Technology',\n",
       "       'Financial Services, Micro Lending',\n",
       "       'E-Commerce, Retail, Shopping',\n",
       "       'Food and Beverage, Snack Food, Tea',\n",
       "       'Delivery Service, E-Commerce, Logistics',\n",
       "       'Fashion, Lifestyle, Rental', 'Fantasy Sports, Mobile, Sports',\n",
       "       'Beauty, Fashion, Wellness', 'Food and Beverage, Restaurants, Tea',\n",
       "       'Fitness, Sporting Goods, Sports',\n",
       "       'Food and Beverage, Food Processing, Manufacturing',\n",
       "       'E-Learning, Internet', 'Eyewear, Internet',\n",
       "       'Information Technology, Mobile, News, Operating Systems, Social Media, Social News',\n",
       "       'FinTech, Internet, Payments, Service Industry',\n",
       "       'B2B, Business Development, Internet, Marketplace',\n",
       "       'Food and Beverage, Food Delivery, Internet',\n",
       "       'Biotechnology, Health Care, Pharmaceutical'], dtype=object)"
      ]
     },
     "execution_count": 41,
     "metadata": {},
     "output_type": "execute_result"
    }
   ],
   "source": [
    "data['Sector'].unique()"
   ]
  },
  {
   "cell_type": "markdown",
   "id": "de47739b",
   "metadata": {},
   "source": [
    "###### REPLACING THE ABNORMALIES IN THE SECTOR COLUMN"
   ]
  },
  {
   "cell_type": "code",
   "execution_count": 42,
   "id": "15b887dd",
   "metadata": {},
   "outputs": [],
   "source": [
    "data['Sector'] = data['Sector'].apply(lambda x : str(x).replace('SaaS\\xa0\\xa0startup','SaaS'))\n",
    "data['Sector'] = data['Sector'].apply(lambda x : str(x).replace('Primary Business is Development and Manufacturing of Novel Healthcare Products in Effervescent forms using imported propriety ingredients.','Healthcare'))\n",
    "data['Sector'] = data['Sector'].apply(lambda x : str(x).replace(\"MoEVing is India's only Electric Mobility focused Technology Platform with a vision to accelerate EV adoption in India.\",'Tech'))\n",
    "data['Sector'] = data['Sector'].apply(lambda x : str(x).replace('Sochcast is an Audio experiences company that give the listener and creators an Immersive Audio experience','Entertainment & Media'))\n",
    "data['Sector'] = data['Sector'].apply(lambda x : str(x).replace('—',''))\n",
    "data['Sector'] = data['Sector'].apply(lambda x : str(x).replace('Computer, Digital Marketing, Facilities Support Services, Graphic Design, Internet, Mobile Apps, Social Media Marketing, Web Development','IT'))\n",
    "data['Sector'] = data['Sector'].apply(lambda x : str(x).replace('Android, Big Data, Blockchain, Cloud Computing, EdTech, Education, Information Technology, iOS, Training, Web Development','Tech'))\n",
    "data['Sector'] = data['Sector'].apply(lambda x : str(x).replace('Big Data, Business Intelligence, Financial Services, FinTech, Personal Finance','FinTech'))\n",
    "data['Sector'] = data['Sector'].apply(lambda x : str(x).replace('Commercial Real Estate, Coworking, Office Administration, Real Estate','Real Estate'))\n",
    "data['Sector'] = data['Sector'].apply(lambda x : str(x).replace('Apps, Health Care, Internet, Mobile Apps, Personal Health','Healthcare'))\n",
    "data['Sector'] = data['Sector'].apply(lambda x : str(x).replace('Advertising, Artificial Intelligence, Digital Media, iOS, Location Based Services, News, Video, Video on Demand, Video Streaming','Media'))\n",
    "data['Sector'] = data['Sector'].apply(lambda x : str(x).replace('Broadcasting, Media and Entertainment, Music, Music Streaming, Video, Video Streaming','Media and Entertainment'))\n",
    "data['Sector'] = data['Sector'].apply(lambda x : str(x).replace('Creative Agency, Crowdfunding, EdTech, Health Care, Internet, Medical, Non Profit, Personal Health','Health Care'))\n",
    "data['Sector'] = data['Sector'].apply(lambda x : str(x).replace('Consumer Lending, Financial Services, FinTech, Insurance, Lending, Mobile Payments, Payments, Wealth Management','FinTech'))\n",
    "data['Sector'] = data['Sector'].apply(lambda x : str(x).replace('Enterprise Resource Planning (ERP), Information Services, Information Technology, Real Estate','Information Technology'))\n",
    "data['Sector'] = data['Sector'].apply(lambda x : str(x).replace('Analytics, Computer Vision, Enterprise Software, Machine Learning, Natural Language Processing, Speech Recognition','IT'))\n",
    "data['Sector'] = data['Sector'].apply(lambda x : str(x).replace('Analytics, CRM, Loyalty Programs, Machine Learning, Marketing Automation, Retail Technology, SaaS, Small and Medium Businesses','SaaS'))\n",
    "data['Sector'] = data['Sector'].apply(lambda x : str(x).replace('Basketball, Cricket, Cycling, eSports, Fitness, Golf, Health Care, Hockey, Sports, Swimming, Table Tennis, Volley Ball','Sports'))\n",
    "data['Sector'] = data['Sector'].apply(lambda x : str(x).replace('Fitness, GreenTech, Internet of Things, Mobile Apps, Ride Sharing, Transportation','Internet of Things'))\n",
    "data['Sector'] = data['Sector'].apply(lambda x : str(x).replace('Health Care, Health Diagnostics, Internet of Things, Life Science, Machine Learning, Medical, Medical Device','Health Care'))\n",
    "data['Sector'] = data['Sector'].apply(lambda x : str(x).replace('Edtech','EdTech'))\n",
    "data['Sector'] = data['Sector'].apply(lambda x : str(x).replace('Fintech','FinTech'))\n",
    "data['Sector'] = data['Sector'].apply(lambda x : str(x).replace('Healthtech','HealthTech'))\n",
    "data['Sector'] = data['Sector'].apply(lambda x : str(x).replace('Technology','Tech'))\n",
    "data['Sector'] = data['Sector'].apply(lambda x : str(x).replace('SaaS platform','SaaS'))\n",
    "data['Sector'] = data['Sector'].apply(lambda x : str(x).replace('SaaS startup','SaaS'))\n",
    "data['Sector'] = data['Sector'].apply(lambda x : str(x).replace('AI startup','AI'))\n",
    "data['Sector'] = data['Sector'].apply(lambda x : str(x).replace('Agritech','AgriTech'))\n",
    "data['Sector'] = data['Sector'].apply(lambda x : str(x).replace('Insurtech','InsurTech'))\n",
    "data['Sector'] = data['Sector'].apply(lambda x : str(x).replace('InsurTech','InsureTech'))\n",
    "data['Sector'] = data['Sector'].apply(lambda x : str(x).replace('Tech','Tech Company'))\n",
    "data['Sector'] = data['Sector'].apply(lambda x : str(x).replace('Tech Company company','Tech Company'))\n",
    "data['Sector'] = data['Sector'].apply(lambda x : str(x).replace('Foodtech','FoodTech Company'))\n",
    "data['Sector'] = data['Sector'].apply(lambda x : str(x).replace('Food tech','FoodTech Company'))\n",
    "\n",
    "\n",
    "\n"
   ]
  },
  {
   "cell_type": "code",
   "execution_count": 43,
   "id": "3ba6efa3",
   "metadata": {},
   "outputs": [
    {
     "data": {
      "text/plain": [
       "Company/Brand    0\n",
       "HeadQuarter      0\n",
       "Sector           0\n",
       "What it does     0\n",
       "Amount($)        0\n",
       "Stage            0\n",
       "Year             0\n",
       "dtype: int64"
      ]
     },
     "execution_count": 43,
     "metadata": {},
     "output_type": "execute_result"
    }
   ],
   "source": [
    "data.isna().sum()"
   ]
  },
  {
   "cell_type": "markdown",
   "id": "b7d95579",
   "metadata": {},
   "source": [
    "* The dataset has no missing data in any of the columns."
   ]
  },
  {
   "cell_type": "markdown",
   "id": "763667cc",
   "metadata": {},
   "source": [
    "###### INSPECTION INTO THE YEAR COLUMN\n",
    "\n",
    "Approach:\n",
    "\n",
    "* Change datatype "
   ]
  },
  {
   "cell_type": "code",
   "execution_count": 44,
   "id": "9e4d1518",
   "metadata": {},
   "outputs": [],
   "source": [
    "data['Year']= data['Year'].astype(str)\n"
   ]
  },
  {
   "cell_type": "code",
   "execution_count": 45,
   "id": "015bb9df",
   "metadata": {},
   "outputs": [
    {
     "name": "stdout",
     "output_type": "stream",
     "text": [
      "<class 'pandas.core.frame.DataFrame'>\n",
      "Int64Index: 2878 entries, 0 to 524\n",
      "Data columns (total 7 columns):\n",
      " #   Column         Non-Null Count  Dtype  \n",
      "---  ------         --------------  -----  \n",
      " 0   Company/Brand  2878 non-null   object \n",
      " 1   HeadQuarter    2878 non-null   object \n",
      " 2   Sector         2878 non-null   object \n",
      " 3   What it does   2878 non-null   object \n",
      " 4   Amount($)      2878 non-null   float64\n",
      " 5   Stage          2878 non-null   object \n",
      " 6   Year           2878 non-null   object \n",
      "dtypes: float64(1), object(6)\n",
      "memory usage: 179.9+ KB\n"
     ]
    }
   ],
   "source": [
    " data.info()"
   ]
  },
  {
   "cell_type": "markdown",
   "id": "24811271",
   "metadata": {},
   "source": [
    "\n",
    "## Analysis"
   ]
  },
  {
   "cell_type": "code",
   "execution_count": 46,
   "id": "d2a2b399",
   "metadata": {
    "scrolled": true
   },
   "outputs": [
    {
     "data": {
      "text/html": [
       "<div>\n",
       "<style scoped>\n",
       "    .dataframe tbody tr th:only-of-type {\n",
       "        vertical-align: middle;\n",
       "    }\n",
       "\n",
       "    .dataframe tbody tr th {\n",
       "        vertical-align: top;\n",
       "    }\n",
       "\n",
       "    .dataframe thead th {\n",
       "        text-align: right;\n",
       "    }\n",
       "</style>\n",
       "<table border=\"1\" class=\"dataframe\">\n",
       "  <thead>\n",
       "    <tr style=\"text-align: right;\">\n",
       "      <th></th>\n",
       "      <th>Company/Brand</th>\n",
       "      <th>HeadQuarter</th>\n",
       "      <th>Sector</th>\n",
       "      <th>What it does</th>\n",
       "      <th>Amount($)</th>\n",
       "      <th>Stage</th>\n",
       "      <th>Year</th>\n",
       "    </tr>\n",
       "  </thead>\n",
       "  <tbody>\n",
       "    <tr>\n",
       "      <th>0</th>\n",
       "      <td>Bombay Shaving</td>\n",
       "      <td>Bangalore</td>\n",
       "      <td>Ecommerce</td>\n",
       "      <td>Provides a range of male grooming products</td>\n",
       "      <td>6300000.0</td>\n",
       "      <td>Unspecified</td>\n",
       "      <td>2019</td>\n",
       "    </tr>\n",
       "    <tr>\n",
       "      <th>1</th>\n",
       "      <td>Ruangguru</td>\n",
       "      <td>Mumbai</td>\n",
       "      <td>EdTech Company</td>\n",
       "      <td>A learning platform that provides topic-based ...</td>\n",
       "      <td>150000000.0</td>\n",
       "      <td>Series C</td>\n",
       "      <td>2019</td>\n",
       "    </tr>\n",
       "    <tr>\n",
       "      <th>2</th>\n",
       "      <td>Eduisfun</td>\n",
       "      <td>Mumbai</td>\n",
       "      <td>EdTech Company</td>\n",
       "      <td>It aims to make learning fun via games.</td>\n",
       "      <td>28000000.0</td>\n",
       "      <td>Fresh funding</td>\n",
       "      <td>2019</td>\n",
       "    </tr>\n",
       "    <tr>\n",
       "      <th>3</th>\n",
       "      <td>HomeLane</td>\n",
       "      <td>Chennai</td>\n",
       "      <td>Interior design</td>\n",
       "      <td>Provides interior designing solutions</td>\n",
       "      <td>30000000.0</td>\n",
       "      <td>Series D</td>\n",
       "      <td>2019</td>\n",
       "    </tr>\n",
       "    <tr>\n",
       "      <th>4</th>\n",
       "      <td>Nu Genes</td>\n",
       "      <td>Telangana</td>\n",
       "      <td>AgriTech Company</td>\n",
       "      <td>It is a seed company engaged in production, pr...</td>\n",
       "      <td>6000000.0</td>\n",
       "      <td>Unspecified</td>\n",
       "      <td>2019</td>\n",
       "    </tr>\n",
       "  </tbody>\n",
       "</table>\n",
       "</div>"
      ],
      "text/plain": [
       "    Company/Brand HeadQuarter            Sector  \\\n",
       "0  Bombay Shaving   Bangalore         Ecommerce   \n",
       "1       Ruangguru      Mumbai    EdTech Company   \n",
       "2        Eduisfun      Mumbai    EdTech Company   \n",
       "3        HomeLane     Chennai   Interior design   \n",
       "4        Nu Genes   Telangana  AgriTech Company   \n",
       "\n",
       "                                        What it does    Amount($)  \\\n",
       "0         Provides a range of male grooming products    6300000.0   \n",
       "1  A learning platform that provides topic-based ...  150000000.0   \n",
       "2            It aims to make learning fun via games.   28000000.0   \n",
       "3              Provides interior designing solutions   30000000.0   \n",
       "4  It is a seed company engaged in production, pr...    6000000.0   \n",
       "\n",
       "           Stage  Year  \n",
       "0    Unspecified  2019  \n",
       "1       Series C  2019  \n",
       "2  Fresh funding  2019  \n",
       "3       Series D  2019  \n",
       "4    Unspecified  2019  "
      ]
     },
     "execution_count": 46,
     "metadata": {},
     "output_type": "execute_result"
    }
   ],
   "source": [
    "data.head()"
   ]
  },
  {
   "cell_type": "code",
   "execution_count": 47,
   "id": "46860247",
   "metadata": {},
   "outputs": [],
   "source": [
    "Startup_data = data.to_csv('startup_data.csv')"
   ]
  },
  {
   "cell_type": "markdown",
   "id": "841623ff",
   "metadata": {},
   "source": [
    "### 1.Trend in Investment Rate over the years?"
   ]
  },
  {
   "cell_type": "code",
   "execution_count": 48,
   "id": "33b4fa4a",
   "metadata": {},
   "outputs": [
    {
     "data": {
      "image/png": "[encoded data removed]",
      "text/plain": [
       "<Figure size 500x300 with 1 Axes>"
      ]
     },
     "metadata": {},
     "output_type": "display_data"
    }
   ],
   "source": [
    "# Group by year and sum the investment amounts\n",
    "investments_by_year = data.groupby('Year')['Amount($)'].sum()\n",
    "\n",
    "# plot a line chart to visualize the trend over time\n",
    "investments_by_year.plot(kind='line', figsize=(5, 3), title='Investment Trend by Year')\n",
    "plt.ylabel('Investment Amount \\n (Hundreds of Billion $)')\n",
    "plt.xlabel('Year')\n",
    "\n",
    "plt.show()"
   ]
  },
  {
   "cell_type": "markdown",
   "id": "51a193f3",
   "metadata": {},
   "source": [
    "### Insights\n",
    "\n",
    "The graph above gives an insight on the investment trends from 2018 - 2021.<br>\n",
    "\n",
    "Between the 2018 to 2019, the sum of investment accessed by startups declined. Reasons are not clear. <br>\n",
    "\n",
    "However, between 2019 through to 2021, sums of investment constantly increased as shown on the line plot. <br>\n",
    "This can be attributed to the increased interest in newer and innovative ventures that would determine the future of \n",
    "economies through and beyond the pandemic."
   ]
  },
  {
   "cell_type": "markdown",
   "id": "e28da8ec",
   "metadata": {},
   "source": [
    "### 2. What Sector received the highest Investment?"
   ]
  },
  {
   "cell_type": "code",
   "execution_count": 49,
   "id": "8aff9a8d",
   "metadata": {},
   "outputs": [
    {
     "data": {
      "text/html": [
       "<div>\n",
       "<style scoped>\n",
       "    .dataframe tbody tr th:only-of-type {\n",
       "        vertical-align: middle;\n",
       "    }\n",
       "\n",
       "    .dataframe tbody tr th {\n",
       "        vertical-align: top;\n",
       "    }\n",
       "\n",
       "    .dataframe thead th {\n",
       "        text-align: right;\n",
       "    }\n",
       "</style>\n",
       "<table border=\"1\" class=\"dataframe\">\n",
       "  <thead>\n",
       "    <tr style=\"text-align: right;\">\n",
       "      <th></th>\n",
       "      <th>Sector</th>\n",
       "      <th>Amount</th>\n",
       "    </tr>\n",
       "  </thead>\n",
       "  <tbody>\n",
       "    <tr>\n",
       "      <th>0</th>\n",
       "      <td>FinTech Company</td>\n",
       "      <td>154751432909.60</td>\n",
       "    </tr>\n",
       "    <tr>\n",
       "      <th>1</th>\n",
       "      <td>Retail</td>\n",
       "      <td>70542380000.00</td>\n",
       "    </tr>\n",
       "    <tr>\n",
       "      <th>2</th>\n",
       "      <td>EdTech Company</td>\n",
       "      <td>5881552278.17</td>\n",
       "    </tr>\n",
       "    <tr>\n",
       "      <th>3</th>\n",
       "      <td>Tech Company</td>\n",
       "      <td>3423983900.00</td>\n",
       "    </tr>\n",
       "    <tr>\n",
       "      <th>4</th>\n",
       "      <td>E-commerce</td>\n",
       "      <td>2879052000.00</td>\n",
       "    </tr>\n",
       "    <tr>\n",
       "      <th>5</th>\n",
       "      <td>Multinational conglomerate company</td>\n",
       "      <td>2200000000.00</td>\n",
       "    </tr>\n",
       "    <tr>\n",
       "      <th>6</th>\n",
       "      <td>Automotive</td>\n",
       "      <td>2111941000.00</td>\n",
       "    </tr>\n",
       "    <tr>\n",
       "      <th>7</th>\n",
       "      <td>Financial Services</td>\n",
       "      <td>1800826500.00</td>\n",
       "    </tr>\n",
       "    <tr>\n",
       "      <th>8</th>\n",
       "      <td>Hospitality</td>\n",
       "      <td>1622903000.00</td>\n",
       "    </tr>\n",
       "    <tr>\n",
       "      <th>9</th>\n",
       "      <td>Insurance</td>\n",
       "      <td>1097650000.00</td>\n",
       "    </tr>\n",
       "  </tbody>\n",
       "</table>\n",
       "</div>"
      ],
      "text/plain": [
       "                               Sector          Amount\n",
       "0                     FinTech Company 154751432909.60\n",
       "1                              Retail  70542380000.00\n",
       "2                      EdTech Company   5881552278.17\n",
       "3                        Tech Company   3423983900.00\n",
       "4                          E-commerce   2879052000.00\n",
       "5  Multinational conglomerate company   2200000000.00\n",
       "6                          Automotive   2111941000.00\n",
       "7                  Financial Services   1800826500.00\n",
       "8                         Hospitality   1622903000.00\n",
       "9                           Insurance   1097650000.00"
      ]
     },
     "execution_count": 49,
     "metadata": {},
     "output_type": "execute_result"
    }
   ],
   "source": [
    "# group the data by sector and calculate the total investment amount for each sector\n",
    "investments_by_sector = data.groupby('Sector')['Amount($)'].sum().sort_values(ascending=False).head(10)\n",
    "pd.set_option('display.float_format', lambda x: f'{x:.2f}')\n",
    "Top_10 =pd.DataFrame({'Sector': investments_by_sector.index, 'Amount': investments_by_sector.values})\n",
    "Top_10"
   ]
  },
  {
   "cell_type": "code",
   "execution_count": 50,
   "id": "705493ba",
   "metadata": {},
   "outputs": [
    {
     "data": {
      "image/png": "[encoded data removed]",
      "text/plain": [
       "<Figure size 1800x700 with 1 Axes>"
      ]
     },
     "metadata": {},
     "output_type": "display_data"
    }
   ],
   "source": [
    "# plot a bar chart to visualize the first ten sectors with the highest investment\n",
    "plt.figure(figsize=(18,7))\n",
    "plt.title('First Ten Sectors with Highest Investment',fontsize =20, fontweight='bold')\n",
    "plt.xlabel('Amount($)', fontsize=20, fontweight='bold')\n",
    "plt.ylabel('Sector', fontsize=20, fontweight='bold')\n",
    "sns.barplot(data=Top_10, y='Sector',x='Amount',  palette=\"dark:#5A9_r\");"
   ]
  },
  {
   "cell_type": "markdown",
   "id": "b5b42a96",
   "metadata": {},
   "source": [
    "### Insights\n",
    "\n",
    "The plot above aligns with the increased interest in tech related innovations.<br> It can be observed that tech-inclined startups received more investment funding in India."
   ]
  },
  {
   "cell_type": "markdown",
   "id": "bad6de93",
   "metadata": {},
   "source": [
    "### 3. Which Sectors thrived in the pandemic era?"
   ]
  },
  {
   "cell_type": "code",
   "execution_count": 51,
   "id": "9d4b2b14",
   "metadata": {},
   "outputs": [
    {
     "data": {
      "text/html": [
       "<div>\n",
       "<style scoped>\n",
       "    .dataframe tbody tr th:only-of-type {\n",
       "        vertical-align: middle;\n",
       "    }\n",
       "\n",
       "    .dataframe tbody tr th {\n",
       "        vertical-align: top;\n",
       "    }\n",
       "\n",
       "    .dataframe thead th {\n",
       "        text-align: right;\n",
       "    }\n",
       "</style>\n",
       "<table border=\"1\" class=\"dataframe\">\n",
       "  <thead>\n",
       "    <tr style=\"text-align: right;\">\n",
       "      <th></th>\n",
       "      <th>Company/Brand</th>\n",
       "      <th>HeadQuarter</th>\n",
       "      <th>Sector</th>\n",
       "      <th>What it does</th>\n",
       "      <th>Amount($)</th>\n",
       "      <th>Stage</th>\n",
       "      <th>Year</th>\n",
       "    </tr>\n",
       "  </thead>\n",
       "  <tbody>\n",
       "    <tr>\n",
       "      <th>0</th>\n",
       "      <td>Bombay Shaving</td>\n",
       "      <td>Bangalore</td>\n",
       "      <td>Ecommerce</td>\n",
       "      <td>Provides a range of male grooming products</td>\n",
       "      <td>6300000.00</td>\n",
       "      <td>Unspecified</td>\n",
       "      <td>2019</td>\n",
       "    </tr>\n",
       "    <tr>\n",
       "      <th>1</th>\n",
       "      <td>Ruangguru</td>\n",
       "      <td>Mumbai</td>\n",
       "      <td>EdTech Company</td>\n",
       "      <td>A learning platform that provides topic-based ...</td>\n",
       "      <td>150000000.00</td>\n",
       "      <td>Series C</td>\n",
       "      <td>2019</td>\n",
       "    </tr>\n",
       "    <tr>\n",
       "      <th>2</th>\n",
       "      <td>Eduisfun</td>\n",
       "      <td>Mumbai</td>\n",
       "      <td>EdTech Company</td>\n",
       "      <td>It aims to make learning fun via games.</td>\n",
       "      <td>28000000.00</td>\n",
       "      <td>Fresh funding</td>\n",
       "      <td>2019</td>\n",
       "    </tr>\n",
       "    <tr>\n",
       "      <th>3</th>\n",
       "      <td>HomeLane</td>\n",
       "      <td>Chennai</td>\n",
       "      <td>Interior design</td>\n",
       "      <td>Provides interior designing solutions</td>\n",
       "      <td>30000000.00</td>\n",
       "      <td>Series D</td>\n",
       "      <td>2019</td>\n",
       "    </tr>\n",
       "    <tr>\n",
       "      <th>4</th>\n",
       "      <td>Nu Genes</td>\n",
       "      <td>Telangana</td>\n",
       "      <td>AgriTech Company</td>\n",
       "      <td>It is a seed company engaged in production, pr...</td>\n",
       "      <td>6000000.00</td>\n",
       "      <td>Unspecified</td>\n",
       "      <td>2019</td>\n",
       "    </tr>\n",
       "    <tr>\n",
       "      <th>...</th>\n",
       "      <td>...</td>\n",
       "      <td>...</td>\n",
       "      <td>...</td>\n",
       "      <td>...</td>\n",
       "      <td>...</td>\n",
       "      <td>...</td>\n",
       "      <td>...</td>\n",
       "    </tr>\n",
       "    <tr>\n",
       "      <th>1050</th>\n",
       "      <td>Leverage Edu</td>\n",
       "      <td>Delhi</td>\n",
       "      <td>EdTech Company</td>\n",
       "      <td>AI enabled marketplace that provides career gu...</td>\n",
       "      <td>1500000.00</td>\n",
       "      <td>Unspecified</td>\n",
       "      <td>2020</td>\n",
       "    </tr>\n",
       "    <tr>\n",
       "      <th>1051</th>\n",
       "      <td>EpiFi</td>\n",
       "      <td>Bangalore</td>\n",
       "      <td>FinTech Company</td>\n",
       "      <td>It offers customers with a single interface fo...</td>\n",
       "      <td>13200000.00</td>\n",
       "      <td>Seed</td>\n",
       "      <td>2020</td>\n",
       "    </tr>\n",
       "    <tr>\n",
       "      <th>1052</th>\n",
       "      <td>Purplle</td>\n",
       "      <td>Mumbai</td>\n",
       "      <td>Cosmetics</td>\n",
       "      <td>Online makeup and beauty products retailer</td>\n",
       "      <td>8000000.00</td>\n",
       "      <td>Unspecified</td>\n",
       "      <td>2020</td>\n",
       "    </tr>\n",
       "    <tr>\n",
       "      <th>1053</th>\n",
       "      <td>Shuttl</td>\n",
       "      <td>Delhi</td>\n",
       "      <td>Transport</td>\n",
       "      <td>App based bus aggregator serice</td>\n",
       "      <td>8043000.00</td>\n",
       "      <td>Series C</td>\n",
       "      <td>2020</td>\n",
       "    </tr>\n",
       "    <tr>\n",
       "      <th>1054</th>\n",
       "      <td>Pando</td>\n",
       "      <td>Chennai</td>\n",
       "      <td>Logitech</td>\n",
       "      <td>Networked logistics management software</td>\n",
       "      <td>9000000.00</td>\n",
       "      <td>Series A</td>\n",
       "      <td>2020</td>\n",
       "    </tr>\n",
       "  </tbody>\n",
       "</table>\n",
       "<p>1144 rows × 7 columns</p>\n",
       "</div>"
      ],
      "text/plain": [
       "       Company/Brand HeadQuarter            Sector  \\\n",
       "0     Bombay Shaving   Bangalore         Ecommerce   \n",
       "1          Ruangguru      Mumbai    EdTech Company   \n",
       "2           Eduisfun      Mumbai    EdTech Company   \n",
       "3           HomeLane     Chennai   Interior design   \n",
       "4           Nu Genes   Telangana  AgriTech Company   \n",
       "...              ...         ...               ...   \n",
       "1050    Leverage Edu       Delhi    EdTech Company   \n",
       "1051           EpiFi   Bangalore   FinTech Company   \n",
       "1052         Purplle      Mumbai         Cosmetics   \n",
       "1053          Shuttl       Delhi         Transport   \n",
       "1054           Pando     Chennai          Logitech   \n",
       "\n",
       "                                           What it does    Amount($)  \\\n",
       "0            Provides a range of male grooming products   6300000.00   \n",
       "1     A learning platform that provides topic-based ... 150000000.00   \n",
       "2               It aims to make learning fun via games.  28000000.00   \n",
       "3                 Provides interior designing solutions  30000000.00   \n",
       "4     It is a seed company engaged in production, pr...   6000000.00   \n",
       "...                                                 ...          ...   \n",
       "1050  AI enabled marketplace that provides career gu...   1500000.00   \n",
       "1051  It offers customers with a single interface fo...  13200000.00   \n",
       "1052         Online makeup and beauty products retailer   8000000.00   \n",
       "1053                    App based bus aggregator serice   8043000.00   \n",
       "1054            Networked logistics management software   9000000.00   \n",
       "\n",
       "              Stage  Year  \n",
       "0       Unspecified  2019  \n",
       "1          Series C  2019  \n",
       "2     Fresh funding  2019  \n",
       "3          Series D  2019  \n",
       "4       Unspecified  2019  \n",
       "...             ...   ...  \n",
       "1050    Unspecified  2020  \n",
       "1051           Seed  2020  \n",
       "1052    Unspecified  2020  \n",
       "1053       Series C  2020  \n",
       "1054       Series A  2020  \n",
       "\n",
       "[1144 rows x 7 columns]"
      ]
     },
     "execution_count": 51,
     "metadata": {},
     "output_type": "execute_result"
    }
   ],
   "source": [
    "Trend_data = data[(data.Year =='2019') | (data.Year =='2020')]  \n",
    "Trend_data"
   ]
  },
  {
   "cell_type": "code",
   "execution_count": 53,
   "id": "803e10db",
   "metadata": {},
   "outputs": [
    {
     "data": {
      "image/png": "[encoded data removed]",
      "text/plain": [
       "<Figure size 1800x800 with 1 Axes>"
      ]
     },
     "metadata": {},
     "output_type": "display_data"
    }
   ],
   "source": [
    "plt.figure(figsize=(18,8))\n",
    "plt.title('Top Ten Sectors with highest investment during the pandemic',fontsize=20, fontweight='bold')\n",
    "plt.xlabel('Amount ($)',fontsize =20, fontweight ='bold')\n",
    "plt.ylabel('Sector',fontsize =20, fontweight ='bold')\n",
    "sns.barplot(data=Top_10_trends, y='Sector',x='Amount',  palette=\"dark:#5A9_r\"); "
   ]
  },
  {
   "cell_type": "markdown",
   "id": "ad87d2e8",
   "metadata": {},
   "source": [
    "\n",
    "### Insights\n",
    "\n",
    "During the pandemic era, the following were observed:\n",
    "* Startups in the retail industry received the most investment funding.<br> This can be atrributed to the surge in more retail outlets during the pandemic as opposed to wholesale joints.<br>People found retail outlets as covenient.\n",
    "\n",
    "* EdTech activities increased with more educational facilities migrating online. \n",
    "\n",
    "* Overall, Tech-inclined innovation received more investment funding.\n"
   ]
  },
  {
   "cell_type": "markdown",
   "id": "050f9593",
   "metadata": {},
   "source": [
    "### 4.  Which Stage has the highest number of startups?"
   ]
  },
  {
   "cell_type": "markdown",
   "id": "7686c004",
   "metadata": {},
   "source": [
    "From the data, the funding stage could be classified into two broad categories; specified and unspecified. About half of the startups have an unspecified funding stage. The analysis below is with respect to those startups with a specified funding stage. "
   ]
  },
  {
   "cell_type": "code",
   "execution_count": 58,
   "id": "3eb81107",
   "metadata": {},
   "outputs": [
    {
     "data": {
      "text/html": [
       "<div>\n",
       "<style scoped>\n",
       "    .dataframe tbody tr th:only-of-type {\n",
       "        vertical-align: middle;\n",
       "    }\n",
       "\n",
       "    .dataframe tbody tr th {\n",
       "        vertical-align: top;\n",
       "    }\n",
       "\n",
       "    .dataframe thead th {\n",
       "        text-align: right;\n",
       "    }\n",
       "</style>\n",
       "<table border=\"1\" class=\"dataframe\">\n",
       "  <thead>\n",
       "    <tr style=\"text-align: right;\">\n",
       "      <th></th>\n",
       "      <th>Stage</th>\n",
       "      <th>Number</th>\n",
       "    </tr>\n",
       "  </thead>\n",
       "  <tbody>\n",
       "    <tr>\n",
       "      <th>0</th>\n",
       "      <td>Seed</td>\n",
       "      <td>680</td>\n",
       "    </tr>\n",
       "    <tr>\n",
       "      <th>1</th>\n",
       "      <td>Series A</td>\n",
       "      <td>343</td>\n",
       "    </tr>\n",
       "    <tr>\n",
       "      <th>2</th>\n",
       "      <td>Pre-series A</td>\n",
       "      <td>287</td>\n",
       "    </tr>\n",
       "    <tr>\n",
       "      <th>3</th>\n",
       "      <td>Series B</td>\n",
       "      <td>134</td>\n",
       "    </tr>\n",
       "    <tr>\n",
       "      <th>4</th>\n",
       "      <td>Series C</td>\n",
       "      <td>114</td>\n",
       "    </tr>\n",
       "    <tr>\n",
       "      <th>5</th>\n",
       "      <td>Pre-seed</td>\n",
       "      <td>58</td>\n",
       "    </tr>\n",
       "    <tr>\n",
       "      <th>6</th>\n",
       "      <td>Series D</td>\n",
       "      <td>50</td>\n",
       "    </tr>\n",
       "    <tr>\n",
       "      <th>7</th>\n",
       "      <td>Debt</td>\n",
       "      <td>45</td>\n",
       "    </tr>\n",
       "    <tr>\n",
       "      <th>8</th>\n",
       "      <td>Angel</td>\n",
       "      <td>37</td>\n",
       "    </tr>\n",
       "    <tr>\n",
       "      <th>9</th>\n",
       "      <td>Series E</td>\n",
       "      <td>30</td>\n",
       "    </tr>\n",
       "  </tbody>\n",
       "</table>\n",
       "</div>"
      ],
      "text/plain": [
       "          Stage  Number\n",
       "0          Seed     680\n",
       "1      Series A     343\n",
       "2  Pre-series A     287\n",
       "3      Series B     134\n",
       "4      Series C     114\n",
       "5      Pre-seed      58\n",
       "6      Series D      50\n",
       "7          Debt      45\n",
       "8         Angel      37\n",
       "9      Series E      30"
      ]
     },
     "execution_count": 58,
     "metadata": {},
     "output_type": "execute_result"
    }
   ],
   "source": [
    "Top_10_stages = Specified_Investment_Stages.head(10)\n",
    "Top_10_stages = pd.DataFrame({'Stage': Top_10_stages.index, 'Number': Top_10_stages.values})\n",
    "Top_10_stages"
   ]
  },
  {
   "cell_type": "code",
   "execution_count": 59,
   "id": "e5068170",
   "metadata": {},
   "outputs": [
    {
     "data": {
      "image/png": "[encoded data removed]",
      "text/plain": [
       "<Figure size 1200x500 with 1 Axes>"
      ]
     },
     "metadata": {},
     "output_type": "display_data"
    }
   ],
   "source": [
    "# Assigning the Stage and Number columns to separate variables \n",
    "stages = Top_10_stages['Stage'] \n",
    "numbers = Top_10_stages['Number']\n",
    "\n",
    "# Creating a color list for the tree map \n",
    "colors = ['#ff6961', '#77dd77', '#aec6cf', '#ffb347', '#b39eb5', '#cfcfc4', '#f0e68c', '#e9967a', '#a0db8e', '#cd5c5c']\n",
    "\n",
    "# Plotting the tree map \n",
    "plt.figure(figsize=(12,5))\n",
    "squarify.plot(sizes=numbers, label=stages, color=colors, alpha=.7) \n",
    "plt.title('Top 10 Specified Stages with the highest number of startups',fontsize=15, fontweight='bold')\n",
    "plt.axis('off') \n",
    "plt.show();"
   ]
  },
  {
   "cell_type": "markdown",
   "id": "037e6577",
   "metadata": {},
   "source": [
    "### Insights\n",
    "\n",
    "From the map, it can be observed that, the seed stage has the most number of startups (About 680 in number). This corresponds to well-known observation that, most startups barely leave the seed funding stage"
   ]
  },
  {
   "cell_type": "markdown",
   "id": "0674fdd4",
   "metadata": {},
   "source": [
    "### 5. The city with the highest number of startups and the total investment receieved by the city "
   ]
  },
  {
   "cell_type": "code",
   "execution_count": 60,
   "id": "85d614d6",
   "metadata": {},
   "outputs": [
    {
     "data": {
      "text/plain": [
       "Bangalore                                         878\n",
       "Mumbai                                            474\n",
       "Gurugram                                          239\n",
       "New Delhi                                         181\n",
       "Bangalore, Karnataka, India                       101\n",
       "                                                 ... \n",
       "West Bengal                                         1\n",
       "Nagpur                                              1\n",
       "San Francisco Bay Area, West Coast, Western US      1\n",
       "Powai                                               1\n",
       "Lucknow, Uttar Pradesh, India                       1\n",
       "Name: HeadQuarter, Length: 171, dtype: int64"
      ]
     },
     "execution_count": 60,
     "metadata": {},
     "output_type": "execute_result"
    }
   ],
   "source": [
    "\n",
    "data['HeadQuarter'] = data.HeadQuarter.apply(lambda x:str(x).replace('Mumbai, Maharashtra, India','Mumbai'))\n",
    "hq_counts = data['HeadQuarter'].value_counts()\n",
    "hq_counts"
   ]
  },
  {
   "cell_type": "code",
   "execution_count": 61,
   "id": "956b64fc",
   "metadata": {},
   "outputs": [
    {
     "name": "stdout",
     "output_type": "stream",
     "text": [
      "The total investment in Bangalore is: $ 24,511,475,206.0\n"
     ]
    }
   ],
   "source": [
    "# Filter the dataframe to include only the rows where the \"HeadQuarter\" column is \"Bangalore\"\n",
    "bangalore = data[data[\"HeadQuarter\"] == \"Bangalore\"]\n",
    "bangalore\n",
    "\n",
    "# Sum the values in the \"Amount($)\" column\n",
    "total_investment = bangalore[\"Amount($)\"].sum().round()\n",
    "print('The total investment in Bangalore is: $',\"{:,}\".format(total_investment))"
   ]
  },
  {
   "cell_type": "markdown",
   "id": "270afc84",
   "metadata": {},
   "source": [
    "### Insights\n",
    "Bangalore has the highest number of startups (878) with a total investment amount of about 24.5 billion dollars.<br>\n",
    "This implies that on an average, startups in Bangalore are likely to receive investment in the regions of 28 million dollars. <br> This makes Bangalore a good location for emerging startups"
   ]
  },
  {
   "cell_type": "markdown",
   "id": "ee0afc85",
   "metadata": {},
   "source": [
    "### 6. Top 5 Cities with the Highest Investment "
   ]
  },
  {
   "cell_type": "code",
   "execution_count": 62,
   "id": "33504f0c",
   "metadata": {},
   "outputs": [
    {
     "data": {
      "text/html": [
       "<div>\n",
       "<style scoped>\n",
       "    .dataframe tbody tr th:only-of-type {\n",
       "        vertical-align: middle;\n",
       "    }\n",
       "\n",
       "    .dataframe tbody tr th {\n",
       "        vertical-align: top;\n",
       "    }\n",
       "\n",
       "    .dataframe thead th {\n",
       "        text-align: right;\n",
       "    }\n",
       "</style>\n",
       "<table border=\"1\" class=\"dataframe\">\n",
       "  <thead>\n",
       "    <tr style=\"text-align: right;\">\n",
       "      <th></th>\n",
       "      <th>City</th>\n",
       "      <th>Invest_Amount</th>\n",
       "    </tr>\n",
       "  </thead>\n",
       "  <tbody>\n",
       "    <tr>\n",
       "      <th>0</th>\n",
       "      <td>Mumbai</td>\n",
       "      <td>231569372742.00</td>\n",
       "    </tr>\n",
       "    <tr>\n",
       "      <th>1</th>\n",
       "      <td>Bangalore</td>\n",
       "      <td>24511475206.00</td>\n",
       "    </tr>\n",
       "    <tr>\n",
       "      <th>2</th>\n",
       "      <td>Gurugram</td>\n",
       "      <td>5592175000.00</td>\n",
       "    </tr>\n",
       "    <tr>\n",
       "      <th>3</th>\n",
       "      <td>California</td>\n",
       "      <td>3078300000.00</td>\n",
       "    </tr>\n",
       "    <tr>\n",
       "      <th>4</th>\n",
       "      <td>New Delhi</td>\n",
       "      <td>2958752000.00</td>\n",
       "    </tr>\n",
       "  </tbody>\n",
       "</table>\n",
       "</div>"
      ],
      "text/plain": [
       "         City   Invest_Amount\n",
       "0      Mumbai 231569372742.00\n",
       "1   Bangalore  24511475206.00\n",
       "2    Gurugram   5592175000.00\n",
       "3  California   3078300000.00\n",
       "4   New Delhi   2958752000.00"
      ]
     },
     "execution_count": 62,
     "metadata": {},
     "output_type": "execute_result"
    }
   ],
   "source": [
    "Invest_City = data.groupby('HeadQuarter')['Amount($)'].sum().round().sort_values(ascending=False).head()\n",
    "\n",
    "Invest_City = pd.DataFrame({'City':Invest_City.index, 'Invest_Amount': Invest_City.values})\n",
    "pd.set_option('display.float_format', lambda x: f'{x:.2f}')\n",
    "\n",
    "Invest_City"
   ]
  },
  {
   "cell_type": "code",
   "execution_count": 63,
   "id": "a3c03cfc",
   "metadata": {},
   "outputs": [
    {
     "data": {
      "image/png": "[encoded data removed]",
      "text/plain": [
       "<Figure size 600x400 with 1 Axes>"
      ]
     },
     "metadata": {},
     "output_type": "display_data"
    }
   ],
   "source": [
    "plt.figure(figsize=(6,4))\n",
    "plt.title('Top 5 Cities with the Highest Investment',fontweight ='bold')\n",
    "plt.xlabel('City',fontweight ='bold')\n",
    "plt.ylabel('Amount ($)',fontweight ='bold')\n",
    "sns.barplot(data=Invest_City, y='Invest_Amount',x='City',palette=\"dark:#5A9_r\");"
   ]
  },
  {
   "cell_type": "markdown",
   "id": "4c16b078",
   "metadata": {},
   "source": [
    "### Mumbai VS Bangalore \n",
    "\n",
    "Despite the large number of startups in Bangalore compared to the other locations,<br> it is not the city with the highest investment funding.We compared Mumbai to Bangalore to derive insights."
   ]
  },
  {
   "cell_type": "code",
   "execution_count": 64,
   "id": "1e8e1759",
   "metadata": {},
   "outputs": [
    {
     "data": {
      "text/html": [
       "<div>\n",
       "<style scoped>\n",
       "    .dataframe tbody tr th:only-of-type {\n",
       "        vertical-align: middle;\n",
       "    }\n",
       "\n",
       "    .dataframe tbody tr th {\n",
       "        vertical-align: top;\n",
       "    }\n",
       "\n",
       "    .dataframe thead th {\n",
       "        text-align: right;\n",
       "    }\n",
       "</style>\n",
       "<table border=\"1\" class=\"dataframe\">\n",
       "  <thead>\n",
       "    <tr style=\"text-align: right;\">\n",
       "      <th></th>\n",
       "      <th>City</th>\n",
       "      <th>Number_startups</th>\n",
       "    </tr>\n",
       "  </thead>\n",
       "  <tbody>\n",
       "    <tr>\n",
       "      <th>0</th>\n",
       "      <td>Bangalore</td>\n",
       "      <td>878</td>\n",
       "    </tr>\n",
       "    <tr>\n",
       "      <th>1</th>\n",
       "      <td>Mumbai</td>\n",
       "      <td>474</td>\n",
       "    </tr>\n",
       "  </tbody>\n",
       "</table>\n",
       "</div>"
      ],
      "text/plain": [
       "        City  Number_startups\n",
       "0  Bangalore              878\n",
       "1     Mumbai              474"
      ]
     },
     "execution_count": 64,
     "metadata": {},
     "output_type": "execute_result"
    }
   ],
   "source": [
    "# The count of startups in both cities\n",
    "hq_counts = data['HeadQuarter'].value_counts().head(2)\n",
    "hq_counts = pd.DataFrame({'City':hq_counts.index, 'Number_startups':hq_counts.values})\n",
    "\n",
    "hq_counts"
   ]
  },
  {
   "cell_type": "code",
   "execution_count": 65,
   "id": "49f38975",
   "metadata": {},
   "outputs": [
    {
     "data": {
      "image/png": "[encoded data removed]",
      "text/plain": [
       "<Figure size 600x400 with 1 Axes>"
      ]
     },
     "metadata": {},
     "output_type": "display_data"
    }
   ],
   "source": [
    "plt.figure(figsize=(6,4))\n",
    "plt.title('Mumbai Vs Bangalore/ Startups')\n",
    "plt.xlabel('City')\n",
    "plt.ylabel('Number of Startups')\n",
    "sns.barplot(data=hq_counts, y='Number_startups',x='City',palette=\"dark:#5A9_r\");"
   ]
  },
  {
   "cell_type": "code",
   "execution_count": 66,
   "id": "579cb027",
   "metadata": {},
   "outputs": [
    {
     "data": {
      "text/html": [
       "<div>\n",
       "<style scoped>\n",
       "    .dataframe tbody tr th:only-of-type {\n",
       "        vertical-align: middle;\n",
       "    }\n",
       "\n",
       "    .dataframe tbody tr th {\n",
       "        vertical-align: top;\n",
       "    }\n",
       "\n",
       "    .dataframe thead th {\n",
       "        text-align: right;\n",
       "    }\n",
       "</style>\n",
       "<table border=\"1\" class=\"dataframe\">\n",
       "  <thead>\n",
       "    <tr style=\"text-align: right;\">\n",
       "      <th></th>\n",
       "      <th>City</th>\n",
       "      <th>Invest_Amount</th>\n",
       "    </tr>\n",
       "  </thead>\n",
       "  <tbody>\n",
       "    <tr>\n",
       "      <th>0</th>\n",
       "      <td>Mumbai</td>\n",
       "      <td>231569372742.00</td>\n",
       "    </tr>\n",
       "    <tr>\n",
       "      <th>1</th>\n",
       "      <td>Bangalore</td>\n",
       "      <td>24511475206.00</td>\n",
       "    </tr>\n",
       "  </tbody>\n",
       "</table>\n",
       "</div>"
      ],
      "text/plain": [
       "        City   Invest_Amount\n",
       "0     Mumbai 231569372742.00\n",
       "1  Bangalore  24511475206.00"
      ]
     },
     "execution_count": 66,
     "metadata": {},
     "output_type": "execute_result"
    }
   ],
   "source": [
    "#The investment funding in both cities\n",
    "\n",
    "Invest_City_new = Invest_City.head(2)\n",
    "Invest_City_new"
   ]
  },
  {
   "cell_type": "code",
   "execution_count": 67,
   "id": "c9a87e79",
   "metadata": {},
   "outputs": [
    {
     "data": {
      "image/png": "[encoded data removed]",
      "text/plain": [
       "<Figure size 600x400 with 1 Axes>"
      ]
     },
     "metadata": {},
     "output_type": "display_data"
    }
   ],
   "source": [
    "plt.figure(figsize=(6,4))\n",
    "plt.title('Mumbai Vs Bangalore/Investment')\n",
    "plt.xlabel('City')\n",
    "plt.ylabel('Invest_Amount ($)')\n",
    "sns.barplot(data=Invest_City_new, y='Invest_Amount',x='City',palette=\"dark:#5A9_r\");"
   ]
  },
  {
   "cell_type": "code",
   "execution_count": 68,
   "id": "64b1d051",
   "metadata": {},
   "outputs": [
    {
     "data": {
      "text/html": [
       "<div>\n",
       "<style scoped>\n",
       "    .dataframe tbody tr th:only-of-type {\n",
       "        vertical-align: middle;\n",
       "    }\n",
       "\n",
       "    .dataframe tbody tr th {\n",
       "        vertical-align: top;\n",
       "    }\n",
       "\n",
       "    .dataframe thead th {\n",
       "        text-align: right;\n",
       "    }\n",
       "</style>\n",
       "<table border=\"1\" class=\"dataframe\">\n",
       "  <thead>\n",
       "    <tr style=\"text-align: right;\">\n",
       "      <th></th>\n",
       "      <th>City</th>\n",
       "      <th>Number_startups</th>\n",
       "      <th>Invest_Amount</th>\n",
       "    </tr>\n",
       "  </thead>\n",
       "  <tbody>\n",
       "    <tr>\n",
       "      <th>0</th>\n",
       "      <td>Bangalore</td>\n",
       "      <td>878</td>\n",
       "      <td>24511475206.00</td>\n",
       "    </tr>\n",
       "    <tr>\n",
       "      <th>1</th>\n",
       "      <td>Mumbai</td>\n",
       "      <td>474</td>\n",
       "      <td>231569372742.00</td>\n",
       "    </tr>\n",
       "  </tbody>\n",
       "</table>\n",
       "</div>"
      ],
      "text/plain": [
       "        City  Number_startups   Invest_Amount\n",
       "0  Bangalore              878  24511475206.00\n",
       "1     Mumbai              474 231569372742.00"
      ]
     },
     "execution_count": 68,
     "metadata": {},
     "output_type": "execute_result"
    }
   ],
   "source": [
    "#Mumbai vs Bangalore\n",
    "\n",
    "MumBan = pd.merge(hq_counts,Invest_City_new, on = 'City' )\n",
    "MumBan"
   ]
  },
  {
   "cell_type": "markdown",
   "id": "4ad63e1c",
   "metadata": {},
   "source": [
    "### Insights"
   ]
  },
  {
   "cell_type": "markdown",
   "id": "61ceb441",
   "metadata": {},
   "source": [
    "As shown on the graph:\n",
    "* The number of startup companies is Bangalore is the highest (about 878). \n",
    "* However Mumbai, which has almost twice as less startups than Bangalore, has the highest funding for startups.\n",
    "* This means that startups in Mumbai have access to more funds than those in other locations.\n",
    "* Thus, on an average, startups in Mumbai receive about 488 milion Dollars.\n",
    "* Based on this, it is safe to say that, Mumbai is the preferably the best location for startups in India.\n"
   ]
  },
  {
   "cell_type": "markdown",
   "id": "0b8b82df",
   "metadata": {},
   "source": [
    "### 7. Average investment amount for a seed stage investment over the period in India"
   ]
  },
  {
   "cell_type": "code",
   "execution_count": 69,
   "id": "3071996f",
   "metadata": {},
   "outputs": [
    {
     "data": {
      "text/html": [
       "<div>\n",
       "<style scoped>\n",
       "    .dataframe tbody tr th:only-of-type {\n",
       "        vertical-align: middle;\n",
       "    }\n",
       "\n",
       "    .dataframe tbody tr th {\n",
       "        vertical-align: top;\n",
       "    }\n",
       "\n",
       "    .dataframe thead th {\n",
       "        text-align: right;\n",
       "    }\n",
       "</style>\n",
       "<table border=\"1\" class=\"dataframe\">\n",
       "  <thead>\n",
       "    <tr style=\"text-align: right;\">\n",
       "      <th></th>\n",
       "      <th>Year</th>\n",
       "      <th>Amount</th>\n",
       "    </tr>\n",
       "  </thead>\n",
       "  <tbody>\n",
       "    <tr>\n",
       "      <th>0</th>\n",
       "      <td>2018</td>\n",
       "      <td>649807.00</td>\n",
       "    </tr>\n",
       "    <tr>\n",
       "      <th>1</th>\n",
       "      <td>2020</td>\n",
       "      <td>1221275.00</td>\n",
       "    </tr>\n",
       "    <tr>\n",
       "      <th>2</th>\n",
       "      <td>2021</td>\n",
       "      <td>2604492.00</td>\n",
       "    </tr>\n",
       "  </tbody>\n",
       "</table>\n",
       "</div>"
      ],
      "text/plain": [
       "   Year     Amount\n",
       "0  2018  649807.00\n",
       "1  2020 1221275.00\n",
       "2  2021 2604492.00"
      ]
     },
     "execution_count": 69,
     "metadata": {},
     "output_type": "execute_result"
    }
   ],
   "source": [
    "data_seed = data[data['Stage']=='Seed']\n",
    "data_seed = data_seed.groupby('Year')['Amount($)'].mean().round()\n",
    "data_seed = pd.DataFrame({'Year': data_seed.index , 'Amount': data_seed.values })\n",
    "data_seed"
   ]
  },
  {
   "cell_type": "markdown",
   "id": "4a71e241",
   "metadata": {},
   "source": [
    "### Insights\n",
    "From the graph, we can see that:\n",
    "* There is no data available for startups who are in the seed funding stage for 2019.\n",
    "* The year 2021 has more startups in the seed funding stage, hence, it has highest average investment within the period of observation."
   ]
  },
  {
   "cell_type": "code",
   "execution_count": 70,
   "id": "959f206a",
   "metadata": {},
   "outputs": [
    {
     "data": {
      "image/png": "[encoded data removed]",
      "text/plain": [
       "<Figure size 600x400 with 1 Axes>"
      ]
     },
     "metadata": {},
     "output_type": "display_data"
    }
   ],
   "source": [
    "plt.figure(figsize=(6,4))\n",
    "plt.title('Average Investment for the seed stage')\n",
    "plt.xlabel('Year')\n",
    "plt.ylabel('Amount ($)')\n",
    "sns.barplot(data=data_seed, y='Amount',x='Year',palette=\"dark:#5A9_r\");\n"
   ]
  },
  {
   "cell_type": "markdown",
   "id": "4379c307",
   "metadata": {},
   "source": [
    "### 8. Top 5 Sectors in Mumbai per Investment Funding Received"
   ]
  },
  {
   "cell_type": "code",
   "execution_count": 71,
   "id": "8cffb5ff",
   "metadata": {},
   "outputs": [
    {
     "data": {
      "text/html": [
       "<div>\n",
       "<style scoped>\n",
       "    .dataframe tbody tr th:only-of-type {\n",
       "        vertical-align: middle;\n",
       "    }\n",
       "\n",
       "    .dataframe tbody tr th {\n",
       "        vertical-align: top;\n",
       "    }\n",
       "\n",
       "    .dataframe thead th {\n",
       "        text-align: right;\n",
       "    }\n",
       "</style>\n",
       "<table border=\"1\" class=\"dataframe\">\n",
       "  <thead>\n",
       "    <tr style=\"text-align: right;\">\n",
       "      <th></th>\n",
       "      <th>Sector</th>\n",
       "      <th>Amount($)</th>\n",
       "    </tr>\n",
       "  </thead>\n",
       "  <tbody>\n",
       "    <tr>\n",
       "      <th>0</th>\n",
       "      <td>FinTech Company</td>\n",
       "      <td>150321799700.00</td>\n",
       "    </tr>\n",
       "    <tr>\n",
       "      <th>1</th>\n",
       "      <td>Retail</td>\n",
       "      <td>70023000000.00</td>\n",
       "    </tr>\n",
       "    <tr>\n",
       "      <th>2</th>\n",
       "      <td>Multinational conglomerate company</td>\n",
       "      <td>2200000000.00</td>\n",
       "    </tr>\n",
       "    <tr>\n",
       "      <th>3</th>\n",
       "      <td>E-commerce</td>\n",
       "      <td>1027749000.00</td>\n",
       "    </tr>\n",
       "    <tr>\n",
       "      <th>4</th>\n",
       "      <td>Education</td>\n",
       "      <td>875000000.00</td>\n",
       "    </tr>\n",
       "  </tbody>\n",
       "</table>\n",
       "</div>"
      ],
      "text/plain": [
       "                               Sector       Amount($)\n",
       "0                     FinTech Company 150321799700.00\n",
       "1                              Retail  70023000000.00\n",
       "2  Multinational conglomerate company   2200000000.00\n",
       "3                          E-commerce   1027749000.00\n",
       "4                           Education    875000000.00"
      ]
     },
     "execution_count": 71,
     "metadata": {},
     "output_type": "execute_result"
    }
   ],
   "source": [
    "# Filter and Group data ude only Mumbai-based companies\n",
    "mumbai_data = data[data['HeadQuarter'] == 'Mumbai'].groupby('Sector')['Amount($)'].sum()\n",
    "\n",
    "# Sort the grouped data in descending order\n",
    "mumbai_data  = mumbai_data.sort_values(ascending=False).head()\n",
    "mumbai_df= pd.DataFrame({'Sector':mumbai_data.index, 'Amount($)':mumbai_data.values})\n",
    "\n",
    "mumbai_df"
   ]
  },
  {
   "cell_type": "code",
   "execution_count": 72,
   "id": "c86c4228",
   "metadata": {},
   "outputs": [
    {
     "data": {
      "image/png": "[encoded data removed]",
      "text/plain": [
       "<Figure size 600x400 with 1 Axes>"
      ]
     },
     "metadata": {},
     "output_type": "display_data"
    }
   ],
   "source": [
    "plt.figure(figsize=(6,4))\n",
    "plt.title('Top 5 Sectors in Mumbai')\n",
    "plt.xlabel('Sector')\n",
    "plt.ylabel('Amount ($)')\n",
    "sns.barplot(data=mumbai_df, y='Sector',x='Amount($)',palette=\"dark:#5A9_r\");"
   ]
  },
  {
   "cell_type": "markdown",
   "id": "c14a134f",
   "metadata": {},
   "source": [
    "### 9.Top 5 sectors in Bangalore per Number of Startups"
   ]
  },
  {
   "cell_type": "code",
   "execution_count": 73,
   "id": "abcba2f0",
   "metadata": {},
   "outputs": [
    {
     "data": {
      "text/plain": [
       "Sector\n",
       "FinTech Company       92\n",
       "EdTech Company        86\n",
       "Financial Services    28\n",
       "SaaS                  28\n",
       "HealthTech Company    24\n",
       "Name: Company/Brand, dtype: int64"
      ]
     },
     "execution_count": 73,
     "metadata": {},
     "output_type": "execute_result"
    }
   ],
   "source": [
    "bangalore_data = data[data[\"HeadQuarter\"] == \"Bangalore\"].groupby('Sector')['Company/Brand'].count()\n",
    "bangalore_data = bangalore_data.sort_values(ascending =False).head()\n",
    "bangalore_data"
   ]
  },
  {
   "cell_type": "code",
   "execution_count": 74,
   "id": "afd97a32",
   "metadata": {},
   "outputs": [
    {
     "data": {
      "image/png": "[encoded data removed]",
      "text/plain": [
       "<Figure size 640x480 with 1 Axes>"
      ]
     },
     "metadata": {},
     "output_type": "display_data"
    }
   ],
   "source": [
    "# Create a pie chart to represent the top 5 sectors\n",
    "plt.pie(bangalore_data.values, labels=bangalore_data.index, autopct=\"%1.1f%%\")\n",
    "plt.title(\"Top 5 Sectors in Bangalore\")\n",
    "plt.show()"
   ]
  },
  {
   "cell_type": "markdown",
   "id": "d313aa52",
   "metadata": {},
   "source": [
    "### Hypothesis Testing"
   ]
  },
  {
   "cell_type": "code",
   "execution_count": 75,
   "id": "3e3d4c3a",
   "metadata": {},
   "outputs": [
    {
     "data": {
      "text/plain": [
       "Sector\n",
       "FinTech Company                      154751432909.60\n",
       "Retail                                70542380000.00\n",
       "EdTech Company                         5881552278.17\n",
       "Tech Company                           3423983900.00\n",
       "E-commerce                             2879052000.00\n",
       "Multinational conglomerate company     2200000000.00\n",
       "Automotive                             2111941000.00\n",
       "Financial Services                     1800826500.00\n",
       "Hospitality                            1622903000.00\n",
       "Insurance                              1097650000.00\n",
       "Name: Amount($), dtype: float64"
      ]
     },
     "execution_count": 75,
     "metadata": {},
     "output_type": "execute_result"
    }
   ],
   "source": [
    "data.groupby('Sector')['Amount($)'].sum().sort_values(ascending =False).head(10)"
   ]
  },
  {
   "cell_type": "code",
   "execution_count": 76,
   "id": "0c7f4667",
   "metadata": {},
   "outputs": [],
   "source": [
    "Total_funds = data['Amount($)'].sum()"
   ]
  },
  {
   "cell_type": "code",
   "execution_count": 77,
   "id": "932ce605",
   "metadata": {},
   "outputs": [],
   "source": [
    "Tech_funds = data[data['Sector'].str.contains('Tech')]['Amount($)'].sum()"
   ]
  },
  {
   "cell_type": "code",
   "execution_count": 78,
   "id": "2e461b29",
   "metadata": {},
   "outputs": [
    {
     "data": {
      "text/plain": [
       "0.600324234459906"
      ]
     },
     "execution_count": 78,
     "metadata": {},
     "output_type": "execute_result"
    }
   ],
   "source": [
    "Tech_funds/Total_funds"
   ]
  },
  {
   "cell_type": "markdown",
   "id": "6a56956d",
   "metadata": {},
   "source": [
    "From above, it is more likely for tech companies to access more funding. Thus we fail to reject the null hypothesis"
   ]
  },
  {
   "cell_type": "markdown",
   "id": "af19b1ef",
   "metadata": {},
   "source": [
    "### Conclusion and Recommendation"
   ]
  },
  {
   "cell_type": "markdown",
   "id": "a3958f32",
   "metadata": {},
   "source": [
    "* The indian startup ecosystem is on the rise.\n",
    "* The prevalent startups are tech-inclined ventures\n",
    "* Most startups that receive funding are located in the regions of Mumbai.\n",
    "* Bangalore has the highest number of startups. Perhaps, there is ease in setting up in Bangalore.\n",
    "* There is a higher likelihood of a tech inclined venture to access funds. "
   ]
  }
 ],
 "metadata": {
  "kernelspec": {
   "display_name": "Python 3 (ipykernel)",
   "language": "python",
   "name": "python3"
  },
  "language_info": {
   "codemirror_mode": {
    "name": "ipython",
    "version": 3
   },
   "file_extension": ".py",
   "mimetype": "text/x-python",
   "name": "python",
   "nbconvert_exporter": "python",
   "pygments_lexer": "ipython3",
   "version": "3.9.13"
  }
 },
 "nbformat": 4,
 "nbformat_minor": 5
}
